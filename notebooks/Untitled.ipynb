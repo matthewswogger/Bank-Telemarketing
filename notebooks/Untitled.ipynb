{
 "cells": [
  {
   "cell_type": "code",
   "execution_count": null,
   "metadata": {},
   "outputs": [],
   "source": [
    "import pandas as pd\n",
    "import numpy as np\n",
    "import ppscore as pps\n",
    "import matplotlib.pyplot as plt\n",
    "import seaborn as sns\n",
    "%matplotlib inline\n",
    "# from imblearn.pipeline import Pipeline\n",
    "from imblearn.over_sampling import SMOTENC\n",
    "# from imblearn.under_sampling import RandomUnderSampler\n",
    "from sklearn.model_selection import train_test_split"
   ]
  },
  {
   "cell_type": "code",
   "execution_count": null,
   "metadata": {},
   "outputs": [],
   "source": [
    "import lightgbm"
   ]
  },
  {
   "cell_type": "markdown",
   "metadata": {},
   "source": [
    "https://core.ac.uk/download/pdf/55631291.pdf\n",
    "\n",
    "https://archive.ics.uci.edu/ml/datasets/Bank+Marketing\n",
    "\n",
    "The data is related with direct marketing campaigns of a Portuguese banking institution. The marketing campaigns were based on phone calls. Often, more than one contact to the same client was required, in order to assess if the product (bank term deposit) would be ('yes') or not ('no') subscribed.\n",
    "\n",
    "1) bank-additional-full.csv with all examples (41188) and 20 inputs, ordered by date (from May 2008 to November 2010), very close to the data analyzed in [Moro et al., 2014]\n",
    "\n",
    "# Input variables:\n",
    "### bank client data:\n",
    "1 - **age** (**numeric**)<br>\n",
    "2 - **job** : type of job (**categorical**: 'admin.','blue-collar','entrepreneur','housemaid','management','retired','self-employed','services','student','technician','unemployed','unknown')<br>\n",
    "3 - **marital** : marital status (**categorical**: 'divorced','married','single','unknown'; note: 'divorced' means divorced or widowed)<br>\n",
    "4 - **education** (**categorical**: 'basic.4y','basic.6y','basic.9y','high.school','illiterate','professional.course','university.degree','unknown')<br>\n",
    "5 - **default**: has credit in default? (**categorical**: 'no','yes','unknown')<br>\n",
    "6 - **housing**: has housing loan? (**categorical**: 'no','yes','unknown')<br>\n",
    "7 - **loan**: has personal loan? (**categorical**: 'no','yes','unknown')<br>\n",
    "### related with the last contact of the current campaign:\n",
    "8 - **contact**: contact communication type (**categorical**: 'cellular','telephone')<br>\n",
    "9 - **month**: last contact month of year (**categorical**: 'jan', 'feb', 'mar', ..., 'nov', 'dec')<br>\n",
    "10 - **day_of_week**: last contact day of the week (**categorical**: 'mon','tue','wed','thu','fri')<br>\n",
    "11 - **duration**: last contact duration, in seconds (**numeric**). **DATA LEAKAGE** Important note: this attribute highly affects the output target (e.g., if duration=0 then y='no'). Yet, the duration is not known before a call is performed. Also, after the end of the call y is obviously known. Thus, this input should only be included for benchmark purposes and should be discarded if the intention is to have a realistic predictive model.<br>\n",
    "### other attributes:\n",
    "12 - **campaign**: number of contacts performed during this campaign and for this client (**numeric**, includes last contact)<br>\n",
    "13 - **pdays**: number of days that passed by after the client was last contacted from a previous campaign (**numeric**; 999 means client was not previously contacted)<br>\n",
    "14 - **previous**: number of contacts performed before this campaign and for this client (**numeric**)<br>\n",
    "15 - **poutcome**: outcome of the previous marketing campaign (**categorical**: 'failure','nonexistent','success')<br>\n",
    "### social and economic context attributes\n",
    "16 - **emp.var.rate**: employment variation rate - quarterly indicator (**numeric**)<br>\n",
    "17 - **cons.price.idx**: consumer price index - monthly indicator (**numeric**)<br>\n",
    "18 - **cons.conf.idx**: consumer confidence index - monthly indicator (**numeric**)<br>\n",
    "19 - **euribor3m**: euribor 3 month rate - daily indicator (**numeric**)<br>\n",
    "20 - **nr.employed**: number of employees - quarterly indicator (**numeric**)<br>\n",
    "\n",
    "# Target variable:\n",
    "21 - **y** - has the client subscribed a term deposit? (binary: 'yes','no')"
   ]
  },
  {
   "cell_type": "code",
   "execution_count": null,
   "metadata": {},
   "outputs": [],
   "source": [
    "\n",
    "# look at these person attributes, these can't be changed\n",
    "['age', 'job', 'marital', 'education', 'default', 'housing', 'loan']\n",
    "\n",
    "# attributes for the economy\n",
    "['emp.var.rate', 'cons.price.idx', 'cons.conf.idx', 'euribor3m', 'nr.employed']\n",
    "\n",
    "# attributes for last campaign\n",
    "['previous', 'poutcome']\n",
    "\n",
    "# attributes with current campaign\n",
    "['contact', 'month', 'day_of_week', 'campaign', 'pdays']\n"
   ]
  },
  {
   "cell_type": "code",
   "execution_count": null,
   "metadata": {},
   "outputs": [],
   "source": [
    "train = pd.read_csv('train.csv')\n",
    "\n",
    "# drop duration column due to its 'unrealistic' effect on the target variable\n",
    "train = train.drop(columns='duration')\n",
    "train.head()"
   ]
  },
  {
   "cell_type": "markdown",
   "metadata": {},
   "source": [
    "# look at economic factors\n",
    "\n",
    "### scatter plots are useless due to the fact that the dots just sit on top of each other"
   ]
  },
  {
   "cell_type": "code",
   "execution_count": null,
   "metadata": {},
   "outputs": [],
   "source": [
    "# econ = train.loc[:, ['y', 'emp_var_rate', 'cons_price_idx', 'cons_conf_idx', 'euribor3m', 'nr_employed']]\n",
    "# econ.head()"
   ]
  },
  {
   "cell_type": "code",
   "execution_count": null,
   "metadata": {},
   "outputs": [],
   "source": [
    "# f, ((ax1, ax2, ax3), (ax4, ax5, _)) = plt.subplots(nrows=2, ncols=3, figsize=(30,10))\n",
    "# sns.boxenplot(x='emp_var_rate', y='y', data=econ, ax=ax1)\n",
    "# sns.boxenplot(x='cons_price_idx', y='y', data=econ, ax=ax2)\n",
    "# sns.boxenplot(x='cons_conf_idx', y='y', data=econ, ax=ax3)\n",
    "# sns.boxenplot(x='euribor3m', y='y', data=econ, ax=ax4)\n",
    "# sns.boxenplot(x='nr_employed', y='y', data=econ, ax=ax5);"
   ]
  },
  {
   "cell_type": "code",
   "execution_count": null,
   "metadata": {},
   "outputs": [],
   "source": [
    "# f, ((ax1, ax2, ax3), (ax4, ax5, _)) = plt.subplots(nrows=2, ncols=3, figsize=(30,10))\n",
    "# sns.histplot(x='emp_var_rate', hue='y', data=econ, ax=ax1)\n",
    "# sns.histplot(x='cons_price_idx', hue='y', data=econ, ax=ax2)\n",
    "# sns.histplot(x='cons_conf_idx', hue='y', data=econ, ax=ax3)\n",
    "# sns.histplot(x='euribor3m', hue='y', data=econ, ax=ax4)\n",
    "# sns.histplot(x='nr_employed', hue='y', data=econ, ax=ax5);"
   ]
  },
  {
   "cell_type": "markdown",
   "metadata": {},
   "source": [
    "# Balance the Data using combo of Over (with SMOTE) and Under sampling methods"
   ]
  },
  {
   "cell_type": "code",
   "execution_count": null,
   "metadata": {},
   "outputs": [],
   "source": [
    "train.y.value_counts()"
   ]
  },
  {
   "cell_type": "code",
   "execution_count": null,
   "metadata": {},
   "outputs": [],
   "source": [
    "# under = RandomUnderSampler(sampling_strategy=.2, random_state=36)\n",
    "# X_resampled, y_resampled = under.fit_resample(train.drop(columns='y'), train.y)\n",
    "# X_resampled['y'] = y_resampled"
   ]
  },
  {
   "cell_type": "code",
   "execution_count": null,
   "metadata": {},
   "outputs": [],
   "source": [
    "# ['job', 'marital', 'education', 'default', 'housing', 'loan', 'contact', 'month', 'day_of_week', 'poutcome']\n",
    "cat_locations = [1, 2, 3, 4, 5, 6, 7, 8, 9, 13]\n",
    "over = SMOTENC(categorical_features=cat_locations, random_state=36)"
   ]
  },
  {
   "cell_type": "code",
   "execution_count": null,
   "metadata": {},
   "outputs": [],
   "source": [
    "X_resampled, y_resampled = over.fit_resample(train.drop(columns='y'), train.y)\n",
    "X_resampled['y'] = y_resampled"
   ]
  },
  {
   "cell_type": "code",
   "execution_count": null,
   "metadata": {},
   "outputs": [],
   "source": [
    "X_resampled.y.value_counts()"
   ]
  },
  {
   "cell_type": "code",
   "execution_count": null,
   "metadata": {},
   "outputs": [],
   "source": [
    "train = X_resampled.copy()"
   ]
  },
  {
   "cell_type": "code",
   "execution_count": null,
   "metadata": {},
   "outputs": [],
   "source": [
    "def percent_of_target(col):\n",
    "    x = train.groupby([col, 'y'])[['age']].count().unstack()\n",
    "    x.columns = ['no', 'yes']\n",
    "    x/=x.sum()\n",
    "\n",
    "    no = x.loc[:, ['no']]\n",
    "    no.columns = ['value']\n",
    "    no['target'] = 'no'\n",
    "\n",
    "    yes = x.loc[:, ['yes']]\n",
    "    yes.columns = ['value']\n",
    "    yes['target'] = 'yes'\n",
    "\n",
    "    return pd.concat([no, yes]).reset_index()\n",
    "\n",
    "\n",
    "def percent_of_category(col):\n",
    "    x = train.groupby(['y', col])[['age']].count().unstack()\n",
    "    x/=x.sum()\n",
    "    x = x.T\n",
    "    x.columns = ['no', 'yes']\n",
    "\n",
    "    no = x.loc[:, ['no']]\n",
    "    no.columns = ['value']\n",
    "    no['target'] = 'no'\n",
    "\n",
    "    yes = x.loc[:, ['yes']]\n",
    "    yes.columns = ['value']\n",
    "    yes['target'] = 'yes'\n",
    "\n",
    "    return pd.concat([no, yes]).reset_index().drop(columns='level_0')"
   ]
  },
  {
   "cell_type": "code",
   "execution_count": null,
   "metadata": {},
   "outputs": [],
   "source": [
    "f, ((ax1, ax2), (ax3, ax4), (ax5, ax6), (ax7, ax8), (ax9, ax10)) = plt.subplots(nrows=5, ncols=2, figsize=(30,20))\n",
    "\n",
    "# graph_func = percent_of_target\n",
    "graph_func = percent_of_category\n",
    "\n",
    "column = 'job'\n",
    "d = graph_func(column)\n",
    "sns.barplot(data=d, x=column, y='value', hue='target', ax=ax1)\n",
    "\n",
    "column = 'marital'\n",
    "d = graph_func(column)\n",
    "sns.barplot(data=d, x=column, y='value', hue='target', ax=ax2)\n",
    "\n",
    "column = 'education'\n",
    "d = graph_func(column)\n",
    "sns.barplot(data=d, x=column, y='value', hue='target', ax=ax3)\n",
    "\n",
    "column = 'default'\n",
    "d = graph_func(column)\n",
    "sns.barplot(data=d, x=column, y='value', hue='target', ax=ax4)\n",
    "\n",
    "column = 'housing'\n",
    "d = graph_func(column)\n",
    "sns.barplot(data=d, x=column, y='value', hue='target', ax=ax5)\n",
    "\n",
    "column = 'loan'\n",
    "d = graph_func(column)\n",
    "sns.barplot(data=d, x=column, y='value', hue='target', ax=ax6)\n",
    "\n",
    "column = 'contact'\n",
    "d = graph_func(column)\n",
    "sns.barplot(data=d, x=column, y='value', hue='target', ax=ax7)\n",
    "\n",
    "column = 'month'\n",
    "d = graph_func(column)\n",
    "sns.barplot(data=d, x=column, y='value', hue='target', ax=ax8)\n",
    "\n",
    "column = 'day_of_week'\n",
    "d = graph_func(column)\n",
    "sns.barplot(data=d, x=column, y='value', hue='target', ax=ax9)\n",
    "\n",
    "column = 'poutcome'\n",
    "d = graph_func(column)\n",
    "sns.barplot(data=d, x=column, y='value', hue='target', ax=ax10);"
   ]
  },
  {
   "cell_type": "code",
   "execution_count": null,
   "metadata": {},
   "outputs": [],
   "source": [
    "f, ((ax1, ax2, ax3), (ax4, ax5, ax6), (ax7, ax8 , ax9)) = plt.subplots(nrows=3, ncols=3, figsize=(30,13))\n",
    "sns.histplot(data=train, x='age', hue='y', kde=True, ax=ax1)\n",
    "sns.histplot(data=train, x='campaign', hue='y', kde=True, ax=ax2)\n",
    "sns.histplot(data=train, x='pdays', hue='y', kde=True, ax=ax3)\n",
    "sns.histplot(data=train, x='previous', hue='y', kde=True, ax=ax4)\n",
    "sns.histplot(data=train, x='emp_var_rate', hue='y', kde=True, ax=ax5)\n",
    "sns.histplot(data=train, x='cons_price_idx', hue='y', kde=True, ax=ax6)\n",
    "sns.histplot(data=train, x='cons_conf_idx', hue='y', kde=True, ax=ax7)\n",
    "sns.histplot(data=train, x='euribor3m', hue='y', kde=True, ax=ax8)\n",
    "sns.histplot(data=train, x='nr_employed', hue='y', kde=True, ax=ax9);"
   ]
  },
  {
   "cell_type": "markdown",
   "metadata": {},
   "source": [
    "# replace category strings with integer values"
   ]
  },
  {
   "cell_type": "code",
   "execution_count": null,
   "metadata": {},
   "outputs": [],
   "source": [
    "train.y = train.y.astype('category')\n",
    "\n",
    "train.job = train.job.astype('category')\n",
    "train.marital = train.marital.astype('category')\n",
    "train.education = train.education.astype('category')\n",
    "train.default = train.default.astype('category')\n",
    "train.housing = train.housing.astype('category')\n",
    "train.loan = train.loan.astype('category')\n",
    "train.contact = train.contact.astype('category')\n",
    "train.month = train.month.astype('category')\n",
    "train.day_of_week = train.day_of_week.astype('category')\n",
    "train.poutcome = train.poutcome.astype('category')\n",
    "\n",
    "X = train.drop(columns='y')\n",
    "\n",
    "# X.job = X.job.cat.codes\n",
    "# X.marital = X.marital.cat.codes\n",
    "# X.education = X.education.cat.codes\n",
    "# X.default = X.default.cat.codes\n",
    "# X.housing = X.housing.cat.codes\n",
    "# X.loan = X.loan.cat.codes\n",
    "# X.contact = X.contact.cat.codes\n",
    "# X.month = X.month.cat.codes\n",
    "# X.day_of_week = X.day_of_week.cat.codes\n",
    "# X.poutcome = X.poutcome.cat.codes\n",
    "\n",
    "Y = train.y.cat.codes"
   ]
  },
  {
   "cell_type": "code",
   "execution_count": null,
   "metadata": {},
   "outputs": [],
   "source": [
    "Y"
   ]
  },
  {
   "cell_type": "code",
   "execution_count": null,
   "metadata": {},
   "outputs": [],
   "source": [
    "X"
   ]
  },
  {
   "cell_type": "code",
   "execution_count": null,
   "metadata": {},
   "outputs": [],
   "source": [
    "from sklearn.linear_model import LogisticRegression\n",
    "from sklearn.tree import DecisionTreeClassifier\n",
    "from sklearn.neighbors import KNeighborsClassifier\n",
    "from sklearn.ensemble import RandomForestClassifier, GradientBoostingClassifier\n",
    "from sklearn.metrics import (roc_auc_score,\n",
    "                             roc_curve,\n",
    "                             f1_score,\n",
    "                             recall_score,\n",
    "                             precision_score,\n",
    "                             precision_recall_curve,\n",
    "                             classification_report)\n",
    "\n",
    "\n"
   ]
  },
  {
   "cell_type": "code",
   "execution_count": null,
   "metadata": {},
   "outputs": [],
   "source": [
    "t = pd.get_dummies(X)\n",
    "t"
   ]
  },
  {
   "cell_type": "code",
   "execution_count": null,
   "metadata": {},
   "outputs": [],
   "source": [
    "t.columns"
   ]
  },
  {
   "cell_type": "code",
   "execution_count": null,
   "metadata": {},
   "outputs": [],
   "source": []
  },
  {
   "cell_type": "code",
   "execution_count": null,
   "metadata": {},
   "outputs": [],
   "source": []
  },
  {
   "cell_type": "code",
   "execution_count": null,
   "metadata": {},
   "outputs": [],
   "source": []
  },
  {
   "cell_type": "code",
   "execution_count": null,
   "metadata": {},
   "outputs": [],
   "source": [
    "X_new = X.loc[:, ['age', 'job', 'marital', 'education', 'default', 'housing', 'loan']].copy()\n",
    "X_new = pd.get_dummies(X_new)\n",
    "X_new.shape"
   ]
  },
  {
   "cell_type": "code",
   "execution_count": null,
   "metadata": {},
   "outputs": [],
   "source": []
  },
  {
   "cell_type": "code",
   "execution_count": null,
   "metadata": {},
   "outputs": [],
   "source": []
  },
  {
   "cell_type": "code",
   "execution_count": null,
   "metadata": {},
   "outputs": [],
   "source": [
    "x, x_test, y, y_test = train_test_split(X_new, Y, test_size=0.2, random_state=36, stratify=Y)"
   ]
  },
  {
   "cell_type": "code",
   "execution_count": null,
   "metadata": {},
   "outputs": [],
   "source": []
  },
  {
   "cell_type": "code",
   "execution_count": null,
   "metadata": {},
   "outputs": [],
   "source": [
    "clf = LogisticRegression(random_state=36, max_iter=400).fit(x, y)\n",
    "clf.score(x, y)"
   ]
  },
  {
   "cell_type": "code",
   "execution_count": null,
   "metadata": {},
   "outputs": [],
   "source": [
    "clf.score(x_test, y_test)"
   ]
  },
  {
   "cell_type": "code",
   "execution_count": null,
   "metadata": {},
   "outputs": [],
   "source": [
    "clf.predict_proba(x_test)"
   ]
  },
  {
   "cell_type": "code",
   "execution_count": null,
   "metadata": {},
   "outputs": [],
   "source": [
    "from sklearn.metrics import roc_auc_score, roc_curve, f1_score, recall_score, precision_score, precision_recall_curve, classification_report"
   ]
  },
  {
   "cell_type": "code",
   "execution_count": null,
   "metadata": {},
   "outputs": [],
   "source": []
  },
  {
   "cell_type": "code",
   "execution_count": null,
   "metadata": {},
   "outputs": [],
   "source": []
  },
  {
   "cell_type": "code",
   "execution_count": null,
   "metadata": {},
   "outputs": [],
   "source": []
  },
  {
   "cell_type": "code",
   "execution_count": null,
   "metadata": {},
   "outputs": [],
   "source": []
  },
  {
   "cell_type": "code",
   "execution_count": null,
   "metadata": {},
   "outputs": [],
   "source": []
  },
  {
   "cell_type": "code",
   "execution_count": null,
   "metadata": {},
   "outputs": [],
   "source": []
  },
  {
   "cell_type": "code",
   "execution_count": null,
   "metadata": {},
   "outputs": [],
   "source": []
  },
  {
   "cell_type": "code",
   "execution_count": null,
   "metadata": {},
   "outputs": [],
   "source": []
  },
  {
   "cell_type": "code",
   "execution_count": null,
   "metadata": {},
   "outputs": [],
   "source": []
  },
  {
   "cell_type": "code",
   "execution_count": null,
   "metadata": {},
   "outputs": [],
   "source": []
  },
  {
   "cell_type": "code",
   "execution_count": null,
   "metadata": {
    "scrolled": true
   },
   "outputs": [],
   "source": [
    "# Create the LightGBM data containers\n",
    "\n",
    "cat_locations = [1, 2, 3, 4, 5, 6, 7, 8, 9, 13]\n",
    "train_data = lightgbm.Dataset(x, label=y, categorical_feature=cat_locations)\n",
    "test_data = lightgbm.Dataset(x_test, label=y_test)\n",
    "\n",
    "parameters = {\n",
    "    'application': 'binary',\n",
    "    'objective': 'binary',\n",
    "    'metric': 'auc',\n",
    "    'boosting': 'gbdt',\n",
    "#     'num_leaves': 31,\n",
    "    'num_leaves': 2,\n",
    "#     'feature_fraction': 0.5,\n",
    "#     'bagging_fraction': 0.5,\n",
    "#     'bagging_freq': 20,\n",
    "#     'learning_rate': 0.05,\n",
    "#     'verbose': 0\n",
    "}\n",
    "\n",
    "model = lightgbm.train(parameters,\n",
    "                       train_data,\n",
    "                       valid_sets=test_data,\n",
    "                       categorical_feature=cat_locations,\n",
    "                       num_boost_round=3000,\n",
    "                       early_stopping_rounds=100)"
   ]
  },
  {
   "cell_type": "code",
   "execution_count": null,
   "metadata": {},
   "outputs": [],
   "source": [
    "from sklearn.metrics import roc_auc_score, roc_curve, f1_score, recall_score, precision_score, precision_recall_curve, classification_report"
   ]
  },
  {
   "cell_type": "code",
   "execution_count": null,
   "metadata": {},
   "outputs": [],
   "source": [
    "y_pred = model.predict(x)\n",
    "y_pred = pd.Series(y_pred)\n",
    "\n",
    "roc_auc_score(y, y_pred)\n",
    "# fpr, tpr, thresholds = roc_curve(y, y_pred)\n",
    "# sns.scatterplot(x=fpr, y=tpr);"
   ]
  },
  {
   "cell_type": "code",
   "execution_count": null,
   "metadata": {},
   "outputs": [],
   "source": [
    "y_pred = model.predict(x_test)\n",
    "y_pred = pd.Series(y_pred)\n",
    "\n",
    "roc_auc_score(y_test, y_pred)\n",
    "# fpr, tpr, thresholds = roc_curve(y_test, y_pred)\n",
    "# sns.scatterplot(x=fpr, y=tpr);"
   ]
  },
  {
   "cell_type": "code",
   "execution_count": null,
   "metadata": {
    "scrolled": true
   },
   "outputs": [],
   "source": [
    "for i in np.arange(.1, 1, .1):\n",
    "    print(f'{i}------------------------------------------------------\\n',\n",
    "          classification_report(y_test, y_pred.apply(lambda x: 1 if x >= i else 0)),\n",
    "          '-----------------------------------------------------------\\n\\n\\n\\n')"
   ]
  },
  {
   "cell_type": "markdown",
   "metadata": {},
   "source": [
    "# take a look at hold out data"
   ]
  },
  {
   "cell_type": "code",
   "execution_count": null,
   "metadata": {},
   "outputs": [],
   "source": [
    "test = pd.read_csv('test.csv')\n",
    "\n",
    "# drop duration column due to its 'unrealistic' effect on the target variable\n",
    "test = test.drop(columns='duration')\n",
    "test.head()"
   ]
  },
  {
   "cell_type": "markdown",
   "metadata": {},
   "source": [
    "test_cat = test.copy()\n",
    "for cat_col in train.select_dtypes('category').columns:\n",
    "    l = train[cat_col].cat.categories.to_list()\n",
    "\n",
    "    test_cat[cat_col] = test_cat[cat_col].apply(lambda x: l.index(x))"
   ]
  },
  {
   "cell_type": "code",
   "execution_count": null,
   "metadata": {},
   "outputs": [],
   "source": [
    "X_holdout = test_cat.drop(columns='y')\n",
    "y_holdout = test_cat.y\n",
    "\n",
    "X_display = test.drop(columns='y')\n",
    "y_display = test.y"
   ]
  },
  {
   "cell_type": "code",
   "execution_count": null,
   "metadata": {},
   "outputs": [],
   "source": [
    "y_pred = model.predict(X_holdout)\n",
    "y_pred = pd.Series(y_pred)\n",
    "y_pred"
   ]
  },
  {
   "cell_type": "code",
   "execution_count": null,
   "metadata": {},
   "outputs": [],
   "source": [
    "# comparing = pd.DataFrame(y_holdout)\n",
    "# comparing['y_pred'] = y_pred\n",
    "# comparing['y_thresholded'] = comparing.y_pred.apply(lambda x: 0 if x < .5 else 1)\n",
    "# comparing "
   ]
  },
  {
   "cell_type": "code",
   "execution_count": null,
   "metadata": {},
   "outputs": [],
   "source": [
    "# comparing.groupby(['y', 'y_thresholded']).count()"
   ]
  },
  {
   "cell_type": "code",
   "execution_count": null,
   "metadata": {},
   "outputs": [],
   "source": [
    "# comparing.y.value_counts()"
   ]
  },
  {
   "cell_type": "code",
   "execution_count": null,
   "metadata": {},
   "outputs": [],
   "source": [
    "# tpr = 546/1392\n",
    "# fpr = 683/10964\n",
    "# fnr = 846/1392\n",
    "# tnr = 10281/10964\n",
    "\n",
    "# OR = (tpr/fpr)/(fnr/tnr)\n",
    "# np.log(OR), np.log10(OR)"
   ]
  },
  {
   "cell_type": "code",
   "execution_count": null,
   "metadata": {},
   "outputs": [],
   "source": [
    "roc_auc_score(y_holdout, y_pred)"
   ]
  },
  {
   "cell_type": "code",
   "execution_count": null,
   "metadata": {},
   "outputs": [],
   "source": [
    "fpr, tpr, thresholds = roc_curve(y_holdout, y_pred)\n",
    "sns.scatterplot(x=fpr, y=tpr);"
   ]
  },
  {
   "cell_type": "code",
   "execution_count": null,
   "metadata": {},
   "outputs": [],
   "source": []
  },
  {
   "cell_type": "code",
   "execution_count": null,
   "metadata": {},
   "outputs": [],
   "source": [
    "import shap"
   ]
  },
  {
   "cell_type": "code",
   "execution_count": null,
   "metadata": {},
   "outputs": [],
   "source": [
    "shap.initjs()\n",
    "explainer = shap.TreeExplainer(model)\n",
    "shap_values = explainer.shap_values(X_holdout)"
   ]
  },
  {
   "cell_type": "markdown",
   "metadata": {},
   "source": [
    "# A No example"
   ]
  },
  {
   "cell_type": "code",
   "execution_count": null,
   "metadata": {},
   "outputs": [],
   "source": [
    "X_display.iloc[0,:]"
   ]
  },
  {
   "cell_type": "code",
   "execution_count": null,
   "metadata": {},
   "outputs": [],
   "source": [
    "shap.force_plot(explainer.expected_value[1], shap_values[1][0,:], X_display.iloc[0,:])"
   ]
  },
  {
   "cell_type": "markdown",
   "metadata": {},
   "source": [
    "# A Yes example"
   ]
  },
  {
   "cell_type": "code",
   "execution_count": null,
   "metadata": {},
   "outputs": [],
   "source": [
    "X_display.iloc[-1,:]"
   ]
  },
  {
   "cell_type": "code",
   "execution_count": null,
   "metadata": {},
   "outputs": [],
   "source": [
    "shap.force_plot(explainer.expected_value[1], shap_values[1][-1,:], X_display.iloc[-1,:])"
   ]
  },
  {
   "cell_type": "code",
   "execution_count": null,
   "metadata": {},
   "outputs": [],
   "source": [
    "shap.force_plot(explainer.expected_value[1], np.vstack((shap_values[1][:500,:],shap_values[1][-500:,:])), pd.concat([X_display.iloc[:500,:],X_display.iloc[-500:,:]]))"
   ]
  },
  {
   "cell_type": "code",
   "execution_count": null,
   "metadata": {},
   "outputs": [],
   "source": [
    "shap.force_plot(explainer.expected_value[1], np.vstack((shap_values[1][:500,:],shap_values[1][-500:,:])), pd.concat([X_display.iloc[:500,:],X_display.iloc[-500:,:]]))"
   ]
  },
  {
   "cell_type": "code",
   "execution_count": null,
   "metadata": {},
   "outputs": [],
   "source": [
    "shap.force_plot(explainer.expected_value[1], np.vstack((shap_values[1][:500,:],shap_values[1][-500:,:])), pd.concat([X_display.iloc[:500,:],X_display.iloc[-500:,:]]))"
   ]
  },
  {
   "cell_type": "code",
   "execution_count": null,
   "metadata": {},
   "outputs": [],
   "source": [
    "shap.summary_plot(shap_values[1], X_holdout, plot_type='violin')"
   ]
  },
  {
   "cell_type": "code",
   "execution_count": null,
   "metadata": {},
   "outputs": [],
   "source": [
    "shap.summary_plot(shap_values[1], X_holdout)"
   ]
  },
  {
   "cell_type": "code",
   "execution_count": null,
   "metadata": {},
   "outputs": [],
   "source": [
    "# shap.summary_plot(shap_values[1], X_holdout, plot_type='violin')\n",
    "# shap.summary_plot(shap_values[1], X_holdout)\n",
    "shap.summary_plot(shap_values, X_holdout)"
   ]
  },
  {
   "cell_type": "code",
   "execution_count": null,
   "metadata": {},
   "outputs": [],
   "source": []
  },
  {
   "cell_type": "code",
   "execution_count": null,
   "metadata": {},
   "outputs": [],
   "source": []
  },
  {
   "cell_type": "code",
   "execution_count": null,
   "metadata": {},
   "outputs": [],
   "source": []
  },
  {
   "cell_type": "code",
   "execution_count": null,
   "metadata": {},
   "outputs": [],
   "source": []
  },
  {
   "cell_type": "code",
   "execution_count": null,
   "metadata": {},
   "outputs": [],
   "source": []
  },
  {
   "cell_type": "code",
   "execution_count": null,
   "metadata": {},
   "outputs": [],
   "source": []
  },
  {
   "cell_type": "code",
   "execution_count": null,
   "metadata": {},
   "outputs": [],
   "source": []
  },
  {
   "cell_type": "code",
   "execution_count": null,
   "metadata": {},
   "outputs": [],
   "source": []
  },
  {
   "cell_type": "code",
   "execution_count": null,
   "metadata": {},
   "outputs": [],
   "source": []
  },
  {
   "cell_type": "code",
   "execution_count": null,
   "metadata": {},
   "outputs": [],
   "source": []
  },
  {
   "cell_type": "code",
   "execution_count": null,
   "metadata": {},
   "outputs": [],
   "source": []
  },
  {
   "cell_type": "code",
   "execution_count": null,
   "metadata": {},
   "outputs": [],
   "source": [
    "# from sklearn.metrics import roc_auc_score, roc_curve\n",
    "# from sklearn.model_selection import train_test_split\n",
    "# import neptunecontrib.monitoring.skopt as sk_utils\n",
    "# import lightgbm as lgb\n",
    "# import pandas as pd\n",
    "# import neptune\n",
    "# import skopt\n",
    "# import sys\n",
    "# import os\n",
    "\n",
    "# SEARCH_PARAMS = {'learning_rate': 0.4,\n",
    "#                 'max_depth': 15,\n",
    "#                 'num_leaves': 32,\n",
    "#                 'feature_fraction': 0.8,\n",
    "#                 'subsample': 0.2}\n",
    "\n",
    "# FIXED_PARAMS={'objective': 'binary',\n",
    "#              'metric': 'auc',\n",
    "#              'is_unbalance':True,\n",
    "#              'bagging_freq':5,\n",
    "#              'boosting':'dart',\n",
    "#              'num_boost_round':300,\n",
    "#              'early_stopping_rounds':30}\n",
    "\n",
    "# def train_evaluate(search_params):\n",
    "#    # you can download the dataset from this link(https://www.kaggle.com/c/santander-customer-transaction-prediction/data)\n",
    "#    # import Dataset to play with it\n",
    "#    data= pd.read_csv(\"sample_train.csv\")\n",
    "#    X = data.drop(['ID_code', 'target'], axis=1)\n",
    "#    y = data['target']\n",
    "#    X_train, X_valid, y_train, y_valid = train_test_split(X, y, test_size=0.2, random_state=1234)\n",
    "#    train_data = lgb.Dataset(X_train, label=y_train)\n",
    "#    valid_data = lgb.Dataset(X_valid, label=y_valid, reference=train_data)\n",
    "\n",
    "#    params = {'metric':FIXED_PARAMS['metric'],\n",
    "#              'objective':FIXED_PARAMS['objective'],\n",
    "#              **search_params}\n",
    "\n",
    "#    model = lgb.train(params, train_data,                     \n",
    "#                      valid_sets=[valid_data],\n",
    "#                      num_boost_round=FIXED_PARAMS['num_boost_round'],\n",
    "#                      early_stopping_rounds=FIXED_PARAMS['early_stopping_rounds'],\n",
    "#                      valid_names=['valid'])\n",
    "#    score = model.best_score['valid']['auc']\n",
    "#    return score"
   ]
  },
  {
   "cell_type": "code",
   "execution_count": null,
   "metadata": {},
   "outputs": [],
   "source": [
    "# neptune.init('mjbahmani/LightGBM-hyperparameters')\n",
    "# neptune.create_experiment('lgb-tuning_final', upload_source_files=['*.*'],\n",
    "#                               tags=['lgb-tuning', 'dart'],params=SEARCH_PARAMS)\n",
    "\n",
    "# SPACE = [\n",
    "#    skopt.space.Real(0.01, 0.5, name='learning_rate', prior='log-uniform'),\n",
    "#    skopt.space.Integer(1, 30, name='max_depth'),\n",
    "#    skopt.space.Integer(10, 200, name='num_leaves'),\n",
    "#    skopt.space.Real(0.1, 1.0, name='feature_fraction', prior='uniform'),\n",
    "#    skopt.space.Real(0.1, 1.0, name='subsample', prior='uniform')\n",
    "# ]\n",
    "# @skopt.utils.use_named_args(SPACE)\n",
    "# def objective(**params):\n",
    "#    return -1.0 * train_evaluate(params)\n",
    "\n",
    "# monitor = sk_utils.NeptuneMonitor()\n",
    "# results = skopt.forest_minimize(objective, SPACE, \n",
    "#                                 n_calls=100, n_random_starts=10, \n",
    "#                                 callback=[monitor])\n",
    "# sk_utils.log_results(results)\n",
    "\n",
    "# neptune.stop()"
   ]
  },
  {
   "cell_type": "code",
   "execution_count": null,
   "metadata": {},
   "outputs": [],
   "source": []
  },
  {
   "cell_type": "code",
   "execution_count": null,
   "metadata": {},
   "outputs": [],
   "source": []
  },
  {
   "cell_type": "code",
   "execution_count": null,
   "metadata": {},
   "outputs": [],
   "source": []
  },
  {
   "cell_type": "code",
   "execution_count": null,
   "metadata": {},
   "outputs": [],
   "source": []
  },
  {
   "cell_type": "code",
   "execution_count": null,
   "metadata": {},
   "outputs": [],
   "source": []
  },
  {
   "cell_type": "code",
   "execution_count": null,
   "metadata": {},
   "outputs": [],
   "source": [
    "predictors_df = pps.predictors(dummy_train, y=\"y\")\n",
    "predictors_df"
   ]
  },
  {
   "cell_type": "code",
   "execution_count": null,
   "metadata": {},
   "outputs": [],
   "source": [
    "f, ax = plt.subplots(figsize=(30,5))\n",
    "sns.barplot(data=predictors_df.head(12), x=\"x\", y=\"ppscore\", ax=ax);"
   ]
  },
  {
   "cell_type": "code",
   "execution_count": null,
   "metadata": {},
   "outputs": [],
   "source": []
  },
  {
   "cell_type": "code",
   "execution_count": null,
   "metadata": {},
   "outputs": [],
   "source": []
  },
  {
   "cell_type": "code",
   "execution_count": null,
   "metadata": {},
   "outputs": [],
   "source": []
  },
  {
   "cell_type": "code",
   "execution_count": null,
   "metadata": {},
   "outputs": [],
   "source": []
  },
  {
   "cell_type": "code",
   "execution_count": null,
   "metadata": {},
   "outputs": [],
   "source": [
    "f, ((ax1, ax2, ax3), (ax4, ax5, ax6)) = plt.subplots(ncols=3, nrows=2, figsize=(30,10))\n",
    "sns.boxplot(x='age', y='y', data=train, ax=ax1)\n",
    "sns.boxplot(x='campaign', y='y', data=train, ax=ax2)\n",
    "sns.boxplot(x='pdays', y='y', data=train, ax=ax3)\n",
    "sns.boxplot(x='previous', y='y', data=train, ax=ax4)\n",
    "sns.boxplot(x='emp_var_rate', y='y', data=train, ax=ax5)\n",
    "sns.boxplot(x='cons_price_idx', y='y', data=train, ax=ax6);"
   ]
  },
  {
   "cell_type": "code",
   "execution_count": null,
   "metadata": {},
   "outputs": [],
   "source": []
  },
  {
   "cell_type": "code",
   "execution_count": null,
   "metadata": {},
   "outputs": [],
   "source": []
  },
  {
   "cell_type": "code",
   "execution_count": null,
   "metadata": {},
   "outputs": [],
   "source": [
    "train.head().T"
   ]
  },
  {
   "cell_type": "code",
   "execution_count": null,
   "metadata": {},
   "outputs": [],
   "source": [
    "train.loc[train.y=='no',:].hist(bins=10, layout=(2,5), figsize=(30,10), color='g');\n",
    "train.loc[train.y=='yes',:].hist(bins=10, layout=(2,5), figsize=(30,10), color='b');"
   ]
  },
  {
   "cell_type": "code",
   "execution_count": null,
   "metadata": {},
   "outputs": [],
   "source": [
    "train.select_dtypes('object').head()"
   ]
  },
  {
   "cell_type": "code",
   "execution_count": null,
   "metadata": {},
   "outputs": [],
   "source": [
    "pd.get_dummies(train.select_dtypes('object')).head()"
   ]
  },
  {
   "cell_type": "code",
   "execution_count": null,
   "metadata": {},
   "outputs": [],
   "source": [
    "pd.get_dummies(train).head()"
   ]
  },
  {
   "cell_type": "code",
   "execution_count": null,
   "metadata": {},
   "outputs": [],
   "source": [
    "over = SMOTE(sampling_strategy=0.1, k_neighbors=k)\n",
    "under = RandomUnderSampler(sampling_strategy=0.5)"
   ]
  },
  {
   "cell_type": "code",
   "execution_count": null,
   "metadata": {
    "scrolled": true
   },
   "outputs": [],
   "source": [
    "SMOTE?"
   ]
  },
  {
   "cell_type": "code",
   "execution_count": null,
   "metadata": {},
   "outputs": [],
   "source": [
    "sm = SMOTE(random_state=36, ratio = 1.0)\n",
    "# x_train_res, y_train_res = sm.fit_sample(x_train, y_train)"
   ]
  },
  {
   "cell_type": "code",
   "execution_count": null,
   "metadata": {},
   "outputs": [],
   "source": []
  },
  {
   "cell_type": "code",
   "execution_count": null,
   "metadata": {},
   "outputs": [],
   "source": []
  },
  {
   "cell_type": "code",
   "execution_count": null,
   "metadata": {},
   "outputs": [],
   "source": []
  }
 ],
 "metadata": {
  "kernelspec": {
   "display_name": "Python 3",
   "language": "python",
   "name": "python3"
  },
  "language_info": {
   "codemirror_mode": {
    "name": "ipython",
    "version": 3
   },
   "file_extension": ".py",
   "mimetype": "text/x-python",
   "name": "python",
   "nbconvert_exporter": "python",
   "pygments_lexer": "ipython3",
   "version": "3.7.3"
  }
 },
 "nbformat": 4,
 "nbformat_minor": 4
}
