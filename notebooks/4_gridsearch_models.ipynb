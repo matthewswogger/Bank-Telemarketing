{
 "cells": [
  {
   "cell_type": "code",
   "execution_count": 1,
   "metadata": {},
   "outputs": [],
   "source": [
    "import pandas as pd\n",
    "import numpy as np\n",
    "from sklearn.model_selection import GridSearchCV, train_test_split, cross_validate\n",
    "from sklearn.linear_model import LogisticRegression\n",
    "from sklearn.tree import DecisionTreeClassifier\n",
    "from sklearn.neighbors import KNeighborsClassifier\n",
    "from sklearn.ensemble import RandomForestClassifier, GradientBoostingClassifier, AdaBoostClassifier\n",
    "from sklearn.metrics import (make_scorer,\n",
    "                             roc_auc_score,\n",
    "                             roc_curve,\n",
    "                             f1_score,\n",
    "                             recall_score,\n",
    "                             precision_score,\n",
    "                             precision_recall_curve,\n",
    "                             classification_report,\n",
    "                             plot_confusion_matrix,\n",
    "                             plot_roc_curve)\n",
    "import joblib\n",
    "import itertools\n",
    "import matplotlib.pyplot as plt\n",
    "import seaborn as sns\n",
    "%matplotlib inline\n",
    "\n",
    "seed = 36"
   ]
  },
  {
   "cell_type": "code",
   "execution_count": 2,
   "metadata": {},
   "outputs": [
    {
     "data": {
      "text/html": [
       "<div>\n",
       "<style scoped>\n",
       "    .dataframe tbody tr th:only-of-type {\n",
       "        vertical-align: middle;\n",
       "    }\n",
       "\n",
       "    .dataframe tbody tr th {\n",
       "        vertical-align: top;\n",
       "    }\n",
       "\n",
       "    .dataframe thead th {\n",
       "        text-align: right;\n",
       "    }\n",
       "</style>\n",
       "<table border=\"1\" class=\"dataframe\">\n",
       "  <thead>\n",
       "    <tr style=\"text-align: right;\">\n",
       "      <th></th>\n",
       "      <th>pdays</th>\n",
       "      <th>job_admin.</th>\n",
       "      <th>job_blue-collar</th>\n",
       "      <th>job_entrepreneur</th>\n",
       "      <th>job_housemaid</th>\n",
       "      <th>job_management</th>\n",
       "      <th>job_retired</th>\n",
       "      <th>job_self-employed</th>\n",
       "      <th>job_services</th>\n",
       "      <th>job_student</th>\n",
       "      <th>...</th>\n",
       "      <th>day_of_week_wed</th>\n",
       "      <th>poutcome_failure</th>\n",
       "      <th>poutcome_success</th>\n",
       "      <th>previous</th>\n",
       "      <th>emp_var_rate</th>\n",
       "      <th>cons_price_idx</th>\n",
       "      <th>cons_conf_idx</th>\n",
       "      <th>euribor3m</th>\n",
       "      <th>nr_employed</th>\n",
       "      <th>y</th>\n",
       "    </tr>\n",
       "  </thead>\n",
       "  <tbody>\n",
       "    <tr>\n",
       "      <th>0</th>\n",
       "      <td>1</td>\n",
       "      <td>1</td>\n",
       "      <td>0</td>\n",
       "      <td>0</td>\n",
       "      <td>0</td>\n",
       "      <td>0</td>\n",
       "      <td>0</td>\n",
       "      <td>0</td>\n",
       "      <td>0</td>\n",
       "      <td>0</td>\n",
       "      <td>...</td>\n",
       "      <td>0</td>\n",
       "      <td>0</td>\n",
       "      <td>1</td>\n",
       "      <td>1</td>\n",
       "      <td>-1.1</td>\n",
       "      <td>0.94601</td>\n",
       "      <td>-49.5</td>\n",
       "      <td>0.987</td>\n",
       "      <td>4963.6</td>\n",
       "      <td>0</td>\n",
       "    </tr>\n",
       "    <tr>\n",
       "      <th>1</th>\n",
       "      <td>1</td>\n",
       "      <td>0</td>\n",
       "      <td>0</td>\n",
       "      <td>0</td>\n",
       "      <td>0</td>\n",
       "      <td>0</td>\n",
       "      <td>0</td>\n",
       "      <td>0</td>\n",
       "      <td>1</td>\n",
       "      <td>0</td>\n",
       "      <td>...</td>\n",
       "      <td>0</td>\n",
       "      <td>0</td>\n",
       "      <td>1</td>\n",
       "      <td>3</td>\n",
       "      <td>-1.8</td>\n",
       "      <td>0.93369</td>\n",
       "      <td>-34.8</td>\n",
       "      <td>0.635</td>\n",
       "      <td>5008.7</td>\n",
       "      <td>0</td>\n",
       "    </tr>\n",
       "    <tr>\n",
       "      <th>2</th>\n",
       "      <td>1</td>\n",
       "      <td>1</td>\n",
       "      <td>0</td>\n",
       "      <td>0</td>\n",
       "      <td>0</td>\n",
       "      <td>0</td>\n",
       "      <td>0</td>\n",
       "      <td>0</td>\n",
       "      <td>0</td>\n",
       "      <td>0</td>\n",
       "      <td>...</td>\n",
       "      <td>0</td>\n",
       "      <td>0</td>\n",
       "      <td>1</td>\n",
       "      <td>1</td>\n",
       "      <td>-2.9</td>\n",
       "      <td>0.92201</td>\n",
       "      <td>-31.4</td>\n",
       "      <td>0.838</td>\n",
       "      <td>5076.2</td>\n",
       "      <td>0</td>\n",
       "    </tr>\n",
       "    <tr>\n",
       "      <th>3</th>\n",
       "      <td>1</td>\n",
       "      <td>0</td>\n",
       "      <td>0</td>\n",
       "      <td>0</td>\n",
       "      <td>0</td>\n",
       "      <td>0</td>\n",
       "      <td>0</td>\n",
       "      <td>0</td>\n",
       "      <td>1</td>\n",
       "      <td>0</td>\n",
       "      <td>...</td>\n",
       "      <td>0</td>\n",
       "      <td>0</td>\n",
       "      <td>1</td>\n",
       "      <td>1</td>\n",
       "      <td>-3.4</td>\n",
       "      <td>0.92379</td>\n",
       "      <td>-29.8</td>\n",
       "      <td>0.770</td>\n",
       "      <td>5017.5</td>\n",
       "      <td>0</td>\n",
       "    </tr>\n",
       "    <tr>\n",
       "      <th>4</th>\n",
       "      <td>1</td>\n",
       "      <td>0</td>\n",
       "      <td>1</td>\n",
       "      <td>0</td>\n",
       "      <td>0</td>\n",
       "      <td>0</td>\n",
       "      <td>0</td>\n",
       "      <td>0</td>\n",
       "      <td>0</td>\n",
       "      <td>0</td>\n",
       "      <td>...</td>\n",
       "      <td>0</td>\n",
       "      <td>0</td>\n",
       "      <td>1</td>\n",
       "      <td>1</td>\n",
       "      <td>-2.9</td>\n",
       "      <td>0.92963</td>\n",
       "      <td>-40.8</td>\n",
       "      <td>1.266</td>\n",
       "      <td>5076.2</td>\n",
       "      <td>0</td>\n",
       "    </tr>\n",
       "  </tbody>\n",
       "</table>\n",
       "<p>5 rows × 42 columns</p>\n",
       "</div>"
      ],
      "text/plain": [
       "   pdays  job_admin.  job_blue-collar  job_entrepreneur  job_housemaid  \\\n",
       "0      1           1                0                 0              0   \n",
       "1      1           0                0                 0              0   \n",
       "2      1           1                0                 0              0   \n",
       "3      1           0                0                 0              0   \n",
       "4      1           0                1                 0              0   \n",
       "\n",
       "   job_management  job_retired  job_self-employed  job_services  job_student  \\\n",
       "0               0            0                  0             0            0   \n",
       "1               0            0                  0             1            0   \n",
       "2               0            0                  0             0            0   \n",
       "3               0            0                  0             1            0   \n",
       "4               0            0                  0             0            0   \n",
       "\n",
       "   ...  day_of_week_wed  poutcome_failure  poutcome_success  previous  \\\n",
       "0  ...                0                 0                 1         1   \n",
       "1  ...                0                 0                 1         3   \n",
       "2  ...                0                 0                 1         1   \n",
       "3  ...                0                 0                 1         1   \n",
       "4  ...                0                 0                 1         1   \n",
       "\n",
       "   emp_var_rate  cons_price_idx  cons_conf_idx  euribor3m  nr_employed  y  \n",
       "0          -1.1         0.94601          -49.5      0.987       4963.6  0  \n",
       "1          -1.8         0.93369          -34.8      0.635       5008.7  0  \n",
       "2          -2.9         0.92201          -31.4      0.838       5076.2  0  \n",
       "3          -3.4         0.92379          -29.8      0.770       5017.5  0  \n",
       "4          -2.9         0.92963          -40.8      1.266       5076.2  0  \n",
       "\n",
       "[5 rows x 42 columns]"
      ]
     },
     "execution_count": 2,
     "metadata": {},
     "output_type": "execute_result"
    }
   ],
   "source": [
    "train = pd.read_csv('../data/notebook_produced_3/train.csv')\n",
    "\n",
    "train.head()"
   ]
  },
  {
   "cell_type": "markdown",
   "metadata": {},
   "source": [
    "### split into success and other for training and drop unnecessary columns"
   ]
  },
  {
   "cell_type": "code",
   "execution_count": 3,
   "metadata": {},
   "outputs": [
    {
     "data": {
      "text/plain": [
       "((1270, 39), (50512, 41))"
      ]
     },
     "execution_count": 3,
     "metadata": {},
     "output_type": "execute_result"
    }
   ],
   "source": [
    "success_df = train.loc[train.poutcome_success==1, :]\n",
    "success_df = success_df.drop(columns=['poutcome_failure', 'poutcome_success', 'pdays'])\n",
    "\n",
    "\n",
    "other_df = train.loc[train.poutcome_success==0, :]\n",
    "other_df = other_df.drop(columns=['poutcome_success'])\n",
    "\n",
    "success_df.shape, other_df.shape"
   ]
  },
  {
   "cell_type": "markdown",
   "metadata": {},
   "source": [
    "## train success with gridsearch"
   ]
  },
  {
   "cell_type": "code",
   "execution_count": null,
   "metadata": {},
   "outputs": [],
   "source": [
    "# def myGridSearchCv(df, g_params):\n",
    "\n",
    "#     X = df.drop(columns='y')\n",
    "#     y = df.y\n",
    "\n",
    "#     names = [\n",
    "#         'knn',\n",
    "#         'random_forest',\n",
    "#         'grad_boost',\n",
    "#         'ada_boost'\n",
    "#     ]\n",
    "\n",
    "#     models = [\n",
    "#         KNeighborsClassifier(),\n",
    "#         RandomForestClassifier(random_state=seed),\n",
    "#         GradientBoostingClassifier(random_state=seed),\n",
    "#         AdaBoostClassifier(random_state=seed)\n",
    "#     ]\n",
    "\n",
    "\n",
    "\n",
    "#     for name, model, params in zip(names, models, g_params):\n",
    "#         clf = GridSearchCV(\n",
    "#                     model,\n",
    "#                     params,\n",
    "#                     scoring='roc_auc',\n",
    "#                     cv=5,\n",
    "#                     n_jobs=-1\n",
    "#                 )\n",
    "#         clf.fit(X, y)\n",
    "#         print(name)\n",
    "#         print(clf.best_score_)\n",
    "#         print(clf.best_params_)\n",
    "#         print('------------------------------')\n",
    "\n",
    "#     return clf\n",
    "\n",
    "# param_grid = [\n",
    "#     {\n",
    "#         'n_neighbors': [1, 3, 5, 7],\n",
    "#         'metric': ['manhattan', 'euclidean', 'jaccard']\n",
    "#     },\n",
    "#     {\n",
    "#         'n_estimators': [5, 6, 7, 8, 9, 10],\n",
    "#         'criterion': ['gini', 'entropy'],\n",
    "#         'max_depth': [5, 6, 7]\n",
    "#     },\n",
    "#     {\n",
    "#         'learning_rate': [.008, .01, .02],\n",
    "#         'n_estimators': [500, 550, 600],\n",
    "#         'max_depth': [7, 8, 9]\n",
    "#     },\n",
    "#     {\n",
    "#         'n_estimators': [10, 50, 100],\n",
    "#         'learning_rate': [.5, 1., 1.5]\n",
    "#     }\n",
    "# ]\n",
    "\n",
    "# poutcome_success_model = myGridSearchCv(success_df, param_grid)"
   ]
  },
  {
   "cell_type": "code",
   "execution_count": null,
   "metadata": {},
   "outputs": [],
   "source": [
    "X = success_df.drop(columns='y')\n",
    "y = success_df.y\n",
    "\n",
    "\n",
    "# n_estimators = [100, 200, 300, 400]\n",
    "# learning_rate = [.1, .2, .3, .4, .5, .6, .7, .8, .9, 1.]\n",
    "\n",
    "# n_estimators = [160, 170, 180, 190]\n",
    "# learning_rate = [.23, .24, .25, .26, .27, .28, .29]\n",
    "\n",
    "n_estimators = [170]\n",
    "learning_rate = [.28]\n",
    "\n",
    "params = itertools.product(n_estimators, learning_rate)\n",
    "l = []\n",
    "for (trees, l_rate) in params:\n",
    "\n",
    "    model = AdaBoostClassifier(\n",
    "                        n_estimators=trees,\n",
    "                        learning_rate=l_rate,\n",
    "                        random_state=seed)\n",
    "\n",
    "    cv_scores = cross_validate(model, X, y,\n",
    "                               cv=5, scoring='roc_auc',\n",
    "                               return_train_score=True,\n",
    "                               n_jobs=-1)\n",
    "    test_score = cv_scores['test_score'].mean()\n",
    "    train_score = cv_scores['train_score'].mean()\n",
    "    l.append([f'{l_rate}, {trees}', test_score, train_score])\n",
    "sss = pd.DataFrame(l, columns=['params', 'test_score', 'train_score'])\n",
    "sss['diff'] = sss.train_score - sss.test_score\n",
    "sss"
   ]
  },
  {
   "cell_type": "code",
   "execution_count": null,
   "metadata": {},
   "outputs": [],
   "source": [
    "model.fit(X, y)"
   ]
  },
  {
   "cell_type": "code",
   "execution_count": null,
   "metadata": {},
   "outputs": [],
   "source": [
    "roc_auc_score(y, model.predict(X))"
   ]
  },
  {
   "cell_type": "code",
   "execution_count": null,
   "metadata": {},
   "outputs": [],
   "source": [
    "print(classification_report(y, model.predict(X)))"
   ]
  },
  {
   "cell_type": "code",
   "execution_count": null,
   "metadata": {},
   "outputs": [],
   "source": [
    "plot_confusion_matrix(model, X, y,\n",
    "                      display_labels=['no', 'yes'],\n",
    "                      cmap=plt.cm.Blues,\n",
    "                      normalize='true'\n",
    "                     );"
   ]
  },
  {
   "cell_type": "code",
   "execution_count": null,
   "metadata": {},
   "outputs": [],
   "source": [
    "# joblib.dump(model, '../saved_models/final_adaboost_poutcome_success.joblib')"
   ]
  },
  {
   "cell_type": "markdown",
   "metadata": {},
   "source": [
    "## train others with gridsearch"
   ]
  },
  {
   "cell_type": "code",
   "execution_count": null,
   "metadata": {},
   "outputs": [],
   "source": [
    "# def myGridSearchCv(df, g_params):\n",
    "\n",
    "#     X = df.drop(columns='y')\n",
    "#     y = df.y\n",
    "\n",
    "#     names = [\n",
    "# #         'knn',\n",
    "#         'random_forest',\n",
    "# #         'grad_boost',\n",
    "# #         'ada_boost'\n",
    "#     ]\n",
    "\n",
    "#     models = [\n",
    "# #         KNeighborsClassifier(),\n",
    "#         RandomForestClassifier(random_state=seed),\n",
    "# #         GradientBoostingClassifier(random_state=seed),\n",
    "# #         AdaBoostClassifier(random_state=seed)\n",
    "#     ]\n",
    "\n",
    "\n",
    "\n",
    "#     for name, model, params in zip(names, models, g_params):\n",
    "#         clf = GridSearchCV(\n",
    "#                     model,\n",
    "#                     params,\n",
    "#                     scoring='roc_auc',\n",
    "#                     cv=5,\n",
    "#                     n_jobs=-1\n",
    "#                 )\n",
    "#         clf.fit(X, y)\n",
    "#         print(name)\n",
    "#         print(clf.best_score_)\n",
    "#         print(clf.best_params_)\n",
    "#         print('------------------------------')\n",
    "\n",
    "#     return clf\n",
    "\n",
    "# param_grid = [\n",
    "# #     {\n",
    "# #         'n_neighbors': [1, 3, 5, 7],\n",
    "# #         'metric': ['manhattan', 'euclidean', 'jaccard']\n",
    "# #     },\n",
    "#     {\n",
    "#         'n_estimators': [50, 100, 150, 200],\n",
    "#         'criterion': ['gini', 'entropy'],\n",
    "#         'max_depth': [15, 30, 50, 75]\n",
    "#     },\n",
    "# #     {\n",
    "# #         'learning_rate': [.008, .01, .02],\n",
    "# #         'n_estimators': [500, 550, 600],\n",
    "# #         'max_depth': [7, 8, 9]\n",
    "# #     },\n",
    "# #     {\n",
    "# #         'n_estimators': [10, 50, 100, 150],\n",
    "# #         'learning_rate': [.5, 1., 1.5]\n",
    "# #     }\n",
    "# ]\n",
    "\n",
    "# poutcome_success_model = myGridSearchCv(other_df, param_grid)"
   ]
  },
  {
   "cell_type": "code",
   "execution_count": null,
   "metadata": {},
   "outputs": [],
   "source": [
    "# knn\n",
    "# 0.8997897471469238\n",
    "# {'metric': 'manhattan', 'n_neighbors': 7}\n",
    "# ------------------------------\n",
    "# random_forest\n",
    "# 0.9518262234258341\n",
    "# {'criterion': 'gini', 'max_depth': 30, 'n_estimators': 200}\n",
    "# ------------------------------\n",
    "# grad_boost\n",
    "# 0.9396368327421417\n",
    "# {'learning_rate': 0.02, 'max_depth': 9, 'n_estimators': 600}\n",
    "# ------------------------------\n",
    "# ada_boost\n",
    "# 0.8406298201536204\n",
    "# {'learning_rate': 1.5, 'n_estimators': 100}\n",
    "# ------------------------------"
   ]
  },
  {
   "cell_type": "code",
   "execution_count": 12,
   "metadata": {},
   "outputs": [
    {
     "data": {
      "text/html": [
       "<div>\n",
       "<style scoped>\n",
       "    .dataframe tbody tr th:only-of-type {\n",
       "        vertical-align: middle;\n",
       "    }\n",
       "\n",
       "    .dataframe tbody tr th {\n",
       "        vertical-align: top;\n",
       "    }\n",
       "\n",
       "    .dataframe thead th {\n",
       "        text-align: right;\n",
       "    }\n",
       "</style>\n",
       "<table border=\"1\" class=\"dataframe\">\n",
       "  <thead>\n",
       "    <tr style=\"text-align: right;\">\n",
       "      <th></th>\n",
       "      <th>params</th>\n",
       "      <th>test_score</th>\n",
       "      <th>train_score</th>\n",
       "      <th>diff</th>\n",
       "    </tr>\n",
       "  </thead>\n",
       "  <tbody>\n",
       "    <tr>\n",
       "      <th>0</th>\n",
       "      <td>100, gini, 50</td>\n",
       "      <td>0.944027</td>\n",
       "      <td>0.981241</td>\n",
       "      <td>0.037214</td>\n",
       "    </tr>\n",
       "  </tbody>\n",
       "</table>\n",
       "</div>"
      ],
      "text/plain": [
       "          params  test_score  train_score      diff\n",
       "0  100, gini, 50    0.944027     0.981241  0.037214"
      ]
     },
     "execution_count": 12,
     "metadata": {},
     "output_type": "execute_result"
    }
   ],
   "source": [
    "X = other_df.drop(columns='y')\n",
    "y = other_df.y\n",
    "\n",
    "X_train, X_test, y_train, y_test = train_test_split(\n",
    "                                            X, y,\n",
    "                                            test_size=0.33,\n",
    "                                            stratify=y,\n",
    "                                            random_state=seed)\n",
    "\n",
    "# n_estimators = [50, 100, 150, 200]\n",
    "# criterion = ['gini', 'entropy']\n",
    "# max_depth = [30, 50, 75]\n",
    "n_estimators = [100]\n",
    "criterion = ['gini']\n",
    "max_depth = [50]\n",
    "\n",
    "params = itertools.product(n_estimators, criterion, max_depth)\n",
    "l = []\n",
    "for (trees, cri, m_depth) in params:\n",
    "\n",
    "    model = RandomForestClassifier(\n",
    "                        n_estimators=trees,\n",
    "                        criterion=cri,\n",
    "                        max_depth=m_depth,\n",
    "                        random_state=seed)\n",
    "\n",
    "    cv_scores = cross_validate(model, X_train, y_train,\n",
    "                               cv=5, scoring='roc_auc',\n",
    "                               return_train_score=True,\n",
    "                               n_jobs=-1)\n",
    "    test_score = cv_scores['test_score'].mean()\n",
    "    train_score = cv_scores['train_score'].mean()\n",
    "    l.append([f'{trees}, {cri}, {m_depth}', test_score, train_score])\n",
    "sss = pd.DataFrame(l, columns=['params', 'test_score', 'train_score'])\n",
    "sss['diff'] = sss.train_score - sss.test_score\n",
    "sss"
   ]
  },
  {
   "cell_type": "code",
   "execution_count": 13,
   "metadata": {},
   "outputs": [
    {
     "data": {
      "image/png": "[encoded data removed]",
      "text/plain": [
       "<Figure size 2160x576 with 2 Axes>"
      ]
     },
     "metadata": {
      "needs_background": "light"
     },
     "output_type": "display_data"
    }
   ],
   "source": [
    "f, (a1, a2) = plt.subplots(nrows=2, figsize=(30, 8))\n",
    "sns.scatterplot(data=sss, x='params', y='test_score', ax=a1)\n",
    "sns.scatterplot(data=sss, x='params', y='train_score', ax=a1)\n",
    "\n",
    "sns.scatterplot(data=sss, x='params', y='diff', ax=a2)\n",
    "a2.tick_params(axis='x', labelrotation=45);"
   ]
  },
  {
   "cell_type": "code",
   "execution_count": 15,
   "metadata": {},
   "outputs": [
    {
     "data": {
      "text/plain": [
       "RandomForestClassifier(max_depth=50, random_state=36)"
      ]
     },
     "execution_count": 15,
     "metadata": {},
     "output_type": "execute_result"
    }
   ],
   "source": [
    "model.fit(X_train, y_train)"
   ]
  },
  {
   "cell_type": "code",
   "execution_count": 16,
   "metadata": {},
   "outputs": [
    {
     "name": "stdout",
     "output_type": "stream",
     "text": [
      "              precision    recall  f1-score   support\n",
      "\n",
      "           0       0.87      0.89      0.88      8334\n",
      "           1       0.89      0.86      0.88      8335\n",
      "\n",
      "    accuracy                           0.88     16669\n",
      "   macro avg       0.88      0.88      0.88     16669\n",
      "weighted avg       0.88      0.88      0.88     16669\n",
      "\n"
     ]
    },
    {
     "data": {
      "image/png": "[encoded data removed]",
      "text/plain": [
       "<Figure size 432x288 with 2 Axes>"
      ]
     },
     "metadata": {
      "needs_background": "light"
     },
     "output_type": "display_data"
    }
   ],
   "source": [
    "roc_auc_score(y_test, model.predict(X_test))\n",
    "\n",
    "print(classification_report(y_test, model.predict(X_test)))\n",
    "\n",
    "plot_confusion_matrix(model, X_test, y_test,\n",
    "                      display_labels=['no', 'yes'],\n",
    "                      cmap=plt.cm.Blues,\n",
    "                      normalize='true'\n",
    "                     );"
   ]
  },
  {
   "cell_type": "code",
   "execution_count": 18,
   "metadata": {},
   "outputs": [
    {
     "data": {
      "text/plain": [
       "((11946, 40), (11946,))"
      ]
     },
     "execution_count": 18,
     "metadata": {},
     "output_type": "execute_result"
    }
   ],
   "source": [
    "test = pd.read_csv('../data/notebook_produced_3/test.csv')\n",
    "\n",
    "other_df = test.loc[test.poutcome_success==0, :]\n",
    "other_df = other_df.drop(columns=['poutcome_success'])\n",
    "\n",
    "X_holdout = other_df.drop(columns='y')\n",
    "y_holdout = other_df.y\n",
    "\n",
    "X_holdout.shape, y_holdout.shape"
   ]
  },
  {
   "cell_type": "code",
   "execution_count": 22,
   "metadata": {},
   "outputs": [
    {
     "name": "stdout",
     "output_type": "stream",
     "text": [
      "              precision    recall  f1-score   support\n",
      "\n",
      "           0       0.93      0.89      0.91     10813\n",
      "           1       0.25      0.35      0.29      1133\n",
      "\n",
      "    accuracy                           0.84     11946\n",
      "   macro avg       0.59      0.62      0.60     11946\n",
      "weighted avg       0.86      0.84      0.85     11946\n",
      "\n"
     ]
    },
    {
     "data": {
      "image/png": "[encoded data removed]",
      "text/plain": [
       "<Figure size 432x288 with 2 Axes>"
      ]
     },
     "metadata": {
      "needs_background": "light"
     },
     "output_type": "display_data"
    }
   ],
   "source": [
    "roc_auc_score(y_holdout, model.predict(X_holdout))\n",
    "\n",
    "print(classification_report(y_holdout, model.predict(X_holdout)))\n",
    "\n",
    "plot_confusion_matrix(model, X_holdout, y_holdout,\n",
    "                      display_labels=['no', 'yes'],\n",
    "                      cmap=plt.cm.Blues,\n",
    "                      normalize='true'\n",
    "                     );"
   ]
  },
  {
   "cell_type": "code",
   "execution_count": null,
   "metadata": {},
   "outputs": [],
   "source": []
  },
  {
   "cell_type": "code",
   "execution_count": null,
   "metadata": {},
   "outputs": [],
   "source": []
  },
  {
   "cell_type": "code",
   "execution_count": null,
   "metadata": {},
   "outputs": [],
   "source": []
  },
  {
   "cell_type": "code",
   "execution_count": null,
   "metadata": {},
   "outputs": [],
   "source": []
  },
  {
   "cell_type": "code",
   "execution_count": null,
   "metadata": {},
   "outputs": [],
   "source": []
  }
 ],
 "metadata": {
  "kernelspec": {
   "display_name": "Python 3",
   "language": "python",
   "name": "python3"
  },
  "language_info": {
   "codemirror_mode": {
    "name": "ipython",
    "version": 3
   },
   "file_extension": ".py",
   "mimetype": "text/x-python",
   "name": "python",
   "nbconvert_exporter": "python",
   "pygments_lexer": "ipython3",
   "version": "3.7.3"
  }
 },
 "nbformat": 4,
 "nbformat_minor": 4
}
