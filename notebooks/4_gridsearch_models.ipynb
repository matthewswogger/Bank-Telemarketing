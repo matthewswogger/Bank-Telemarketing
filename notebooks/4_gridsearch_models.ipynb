{
 "cells": [
  {
   "cell_type": "code",
   "execution_count": null,
   "metadata": {},
   "outputs": [],
   "source": [
    "import pandas as pd\n",
    "import numpy as np\n",
    "from sklearn.model_selection import GridSearchCV, train_test_split, cross_validate\n",
    "from sklearn.linear_model import LogisticRegression\n",
    "from sklearn.tree import DecisionTreeClassifier\n",
    "from sklearn.neighbors import KNeighborsClassifier\n",
    "from sklearn.ensemble import RandomForestClassifier, GradientBoostingClassifier, AdaBoostClassifier\n",
    "from sklearn.metrics import (make_scorer,\n",
    "                             roc_auc_score,\n",
    "                             roc_curve,\n",
    "                             f1_score,\n",
    "                             recall_score,\n",
    "                             precision_score,\n",
    "                             precision_recall_curve,\n",
    "                             classification_report,\n",
    "                             plot_confusion_matrix,\n",
    "                             plot_roc_curve)\n",
    "import joblib\n",
    "import itertools\n",
    "import matplotlib.pyplot as plt\n",
    "import seaborn as sns\n",
    "%matplotlib inline\n",
    "\n",
    "seed = 36"
   ]
  },
  {
   "cell_type": "code",
   "execution_count": null,
   "metadata": {},
   "outputs": [],
   "source": [
    "train = pd.read_csv('../data/notebook_produced_3/train.csv')\n",
    "\n",
    "train.head()"
   ]
  },
  {
   "cell_type": "markdown",
   "metadata": {},
   "source": [
    "### split into success and other for training and drop unnecessary columns"
   ]
  },
  {
   "cell_type": "code",
   "execution_count": null,
   "metadata": {},
   "outputs": [],
   "source": [
    "success_df = train.loc[train.poutcome_success==1, :]\n",
    "success_df = success_df.drop(columns=['poutcome_failure', 'poutcome_success', 'pdays'])\n",
    "\n",
    "\n",
    "other_df = train.loc[train.poutcome_success==0, :]\n",
    "other_df = other_df.drop(columns=['poutcome_success'])\n",
    "\n",
    "success_df.shape, other_df.shape"
   ]
  },
  {
   "cell_type": "markdown",
   "metadata": {},
   "source": [
    "## train success with gridsearch"
   ]
  },
  {
   "cell_type": "code",
   "execution_count": null,
   "metadata": {},
   "outputs": [],
   "source": [
    "# def myGridSearchCv(df, g_params):\n",
    "\n",
    "#     X = df.drop(columns='y')\n",
    "#     y = df.y\n",
    "\n",
    "#     names = [\n",
    "#         'knn',\n",
    "#         'random_forest',\n",
    "#         'grad_boost',\n",
    "#         'ada_boost'\n",
    "#     ]\n",
    "\n",
    "#     models = [\n",
    "#         KNeighborsClassifier(),\n",
    "#         RandomForestClassifier(random_state=seed),\n",
    "#         GradientBoostingClassifier(random_state=seed),\n",
    "#         AdaBoostClassifier(random_state=seed)\n",
    "#     ]\n",
    "\n",
    "\n",
    "\n",
    "#     for name, model, params in zip(names, models, g_params):\n",
    "#         clf = GridSearchCV(\n",
    "#                     model,\n",
    "#                     params,\n",
    "#                     scoring='roc_auc',\n",
    "#                     cv=5,\n",
    "#                     n_jobs=-1\n",
    "#                 )\n",
    "#         clf.fit(X, y)\n",
    "#         print(name)\n",
    "#         print(clf.best_score_)\n",
    "#         print(clf.best_params_)\n",
    "#         print('------------------------------')\n",
    "\n",
    "#     return clf\n",
    "\n",
    "# param_grid = [\n",
    "#     {\n",
    "#         'n_neighbors': [1, 3, 5, 7],\n",
    "#         'metric': ['manhattan', 'euclidean', 'jaccard']\n",
    "#     },\n",
    "#     {\n",
    "#         'n_estimators': [5, 6, 7, 8, 9, 10],\n",
    "#         'criterion': ['gini', 'entropy'],\n",
    "#         'max_depth': [5, 6, 7]\n",
    "#     },\n",
    "#     {\n",
    "#         'learning_rate': [.008, .01, .02],\n",
    "#         'n_estimators': [500, 550, 600],\n",
    "#         'max_depth': [7, 8, 9]\n",
    "#     },\n",
    "#     {\n",
    "#         'n_estimators': [10, 50, 100],\n",
    "#         'learning_rate': [.5, 1., 1.5]\n",
    "#     }\n",
    "# ]\n",
    "\n",
    "# poutcome_success_model = myGridSearchCv(success_df, param_grid)"
   ]
  },
  {
   "cell_type": "code",
   "execution_count": null,
   "metadata": {},
   "outputs": [],
   "source": [
    "X = success_df.drop(columns='y')\n",
    "y = success_df.y\n",
    "\n",
    "\n",
    "# n_estimators = [100, 200, 300, 400]\n",
    "# learning_rate = [.1, .2, .3, .4, .5, .6, .7, .8, .9, 1.]\n",
    "\n",
    "# n_estimators = [160, 170, 180, 190]\n",
    "# learning_rate = [.23, .24, .25, .26, .27, .28, .29]\n",
    "\n",
    "n_estimators = [170]\n",
    "learning_rate = [.28]\n",
    "\n",
    "params = itertools.product(n_estimators, learning_rate)\n",
    "l = []\n",
    "for (trees, l_rate) in params:\n",
    "\n",
    "    model = AdaBoostClassifier(\n",
    "                        n_estimators=trees,\n",
    "                        learning_rate=l_rate,\n",
    "                        random_state=seed)\n",
    "\n",
    "    cv_scores = cross_validate(model, X, y,\n",
    "                               cv=5, scoring='roc_auc',\n",
    "                               return_train_score=True,\n",
    "                               n_jobs=-1)\n",
    "    test_score = cv_scores['test_score'].mean()\n",
    "    train_score = cv_scores['train_score'].mean()\n",
    "    l.append([f'{l_rate}, {trees}', test_score, train_score])\n",
    "sss = pd.DataFrame(l, columns=['params', 'test_score', 'train_score'])\n",
    "sss['diff'] = sss.train_score - sss.test_score\n",
    "sss"
   ]
  },
  {
   "cell_type": "code",
   "execution_count": null,
   "metadata": {},
   "outputs": [],
   "source": [
    "model.fit(X, y)"
   ]
  },
  {
   "cell_type": "code",
   "execution_count": null,
   "metadata": {},
   "outputs": [],
   "source": [
    "roc_auc_score(y, model.predict(X))"
   ]
  },
  {
   "cell_type": "code",
   "execution_count": null,
   "metadata": {},
   "outputs": [],
   "source": [
    "print(classification_report(y, model.predict(X)))"
   ]
  },
  {
   "cell_type": "code",
   "execution_count": null,
   "metadata": {},
   "outputs": [],
   "source": [
    "plot_confusion_matrix(model, X, y,\n",
    "                      display_labels=['no', 'yes'],\n",
    "                      cmap=plt.cm.Blues,\n",
    "                      normalize='true'\n",
    "                     );"
   ]
  },
  {
   "cell_type": "code",
   "execution_count": null,
   "metadata": {},
   "outputs": [],
   "source": [
    "# joblib.dump(model, '../saved_models/final_adaboost_poutcome_success.joblib')"
   ]
  },
  {
   "cell_type": "markdown",
   "metadata": {},
   "source": [
    "## train others with gridsearch"
   ]
  },
  {
   "cell_type": "code",
   "execution_count": null,
   "metadata": {},
   "outputs": [],
   "source": [
    "# def myGridSearchCv(df, g_params):\n",
    "\n",
    "#     X = df.drop(columns='y')\n",
    "#     y = df.y\n",
    "\n",
    "#     names = [\n",
    "# #         'knn',\n",
    "#         'random_forest',\n",
    "# #         'grad_boost',\n",
    "# #         'ada_boost'\n",
    "#     ]\n",
    "\n",
    "#     models = [\n",
    "# #         KNeighborsClassifier(),\n",
    "#         RandomForestClassifier(random_state=seed),\n",
    "# #         GradientBoostingClassifier(random_state=seed),\n",
    "# #         AdaBoostClassifier(random_state=seed)\n",
    "#     ]\n",
    "\n",
    "\n",
    "\n",
    "#     for name, model, params in zip(names, models, g_params):\n",
    "#         clf = GridSearchCV(\n",
    "#                     model,\n",
    "#                     params,\n",
    "#                     scoring='roc_auc',\n",
    "#                     cv=5,\n",
    "#                     n_jobs=-1\n",
    "#                 )\n",
    "#         clf.fit(X, y)\n",
    "#         print(name)\n",
    "#         print(clf.best_score_)\n",
    "#         print(clf.best_params_)\n",
    "#         print('------------------------------')\n",
    "\n",
    "#     return clf\n",
    "\n",
    "# param_grid = [\n",
    "# #     {\n",
    "# #         'n_neighbors': [1, 3, 5, 7],\n",
    "# #         'metric': ['manhattan', 'euclidean', 'jaccard']\n",
    "# #     },\n",
    "#     {\n",
    "#         'n_estimators': [50, 100, 150, 200],\n",
    "#         'criterion': ['gini', 'entropy'],\n",
    "#         'max_depth': [15, 30, 50, 75]\n",
    "#     },\n",
    "# #     {\n",
    "# #         'learning_rate': [.008, .01, .02],\n",
    "# #         'n_estimators': [500, 550, 600],\n",
    "# #         'max_depth': [7, 8, 9]\n",
    "# #     },\n",
    "# #     {\n",
    "# #         'n_estimators': [10, 50, 100, 150],\n",
    "# #         'learning_rate': [.5, 1., 1.5]\n",
    "# #     }\n",
    "# ]\n",
    "\n",
    "# poutcome_success_model = myGridSearchCv(other_df, param_grid)"
   ]
  },
  {
   "cell_type": "code",
   "execution_count": null,
   "metadata": {},
   "outputs": [],
   "source": [
    "# knn\n",
    "# 0.8997897471469238\n",
    "# {'metric': 'manhattan', 'n_neighbors': 7}\n",
    "# ------------------------------\n",
    "# random_forest\n",
    "# 0.9518262234258341\n",
    "# {'criterion': 'gini', 'max_depth': 30, 'n_estimators': 200}\n",
    "# ------------------------------\n",
    "# grad_boost\n",
    "# 0.9396368327421417\n",
    "# {'learning_rate': 0.02, 'max_depth': 9, 'n_estimators': 600}\n",
    "# ------------------------------\n",
    "# ada_boost\n",
    "# 0.8406298201536204\n",
    "# {'learning_rate': 1.5, 'n_estimators': 100}\n",
    "# ------------------------------"
   ]
  },
  {
   "cell_type": "code",
   "execution_count": null,
   "metadata": {},
   "outputs": [],
   "source": [
    "X = other_df.drop(columns='y')\n",
    "y = other_df.y\n",
    "\n",
    "X_train, X_test, y_train, y_test = train_test_split(\n",
    "                                            X, y,\n",
    "                                            test_size=0.33,\n",
    "                                            stratify=y,\n",
    "                                            random_state=seed)\n",
    "\n",
    "# n_estimators = [50, 100, 150, 200]\n",
    "# criterion = ['gini', 'entropy']\n",
    "# max_depth = [30, 50, 75]\n",
    "n_estimators = [100]\n",
    "criterion = ['gini']\n",
    "max_depth = [50]\n",
    "\n",
    "params = itertools.product(n_estimators, criterion, max_depth)\n",
    "l = []\n",
    "for (trees, cri, m_depth) in params:\n",
    "\n",
    "    model = RandomForestClassifier(\n",
    "                        n_estimators=trees,\n",
    "                        criterion=cri,\n",
    "                        max_depth=m_depth,\n",
    "                        random_state=seed)\n",
    "\n",
    "    cv_scores = cross_validate(model, X_train, y_train,\n",
    "                               cv=5, scoring='roc_auc',\n",
    "                               return_train_score=True,\n",
    "                               n_jobs=-1)\n",
    "    test_score = cv_scores['test_score'].mean()\n",
    "    train_score = cv_scores['train_score'].mean()\n",
    "    l.append([f'{trees}, {cri}, {m_depth}', test_score, train_score])\n",
    "sss = pd.DataFrame(l, columns=['params', 'test_score', 'train_score'])\n",
    "sss['diff'] = sss.train_score - sss.test_score\n",
    "sss"
   ]
  },
  {
   "cell_type": "code",
   "execution_count": null,
   "metadata": {},
   "outputs": [],
   "source": [
    "# f, (a1, a2) = plt.subplots(nrows=2, figsize=(30, 8))\n",
    "# sns.scatterplot(data=sss, x='params', y='test_score', ax=a1)\n",
    "# sns.scatterplot(data=sss, x='params', y='train_score', ax=a1)\n",
    "\n",
    "# sns.scatterplot(data=sss, x='params', y='diff', ax=a2)\n",
    "# a2.tick_params(axis='x', labelrotation=45);"
   ]
  },
  {
   "cell_type": "code",
   "execution_count": null,
   "metadata": {},
   "outputs": [],
   "source": [
    "model.fit(X_train, y_train)"
   ]
  },
  {
   "cell_type": "code",
   "execution_count": null,
   "metadata": {},
   "outputs": [],
   "source": [
    "roc_auc_score(y_test, model.predict(X_test))\n",
    "\n",
    "print(classification_report(y_test, model.predict(X_test)))\n",
    "\n",
    "plot_confusion_matrix(model, X_test, y_test,\n",
    "                      display_labels=['no', 'yes'],\n",
    "                      cmap=plt.cm.Blues,\n",
    "                      normalize='true'\n",
    "                     );"
   ]
  },
  {
   "cell_type": "code",
   "execution_count": null,
   "metadata": {},
   "outputs": [],
   "source": [
    "# joblib.dump(model, '../saved_models/final_adaboost_poutcome_other.joblib')"
   ]
  },
  {
   "cell_type": "markdown",
   "metadata": {},
   "source": [
    "# stuff"
   ]
  },
  {
   "cell_type": "code",
   "execution_count": 2,
   "metadata": {},
   "outputs": [],
   "source": [
    "import pandas as pd\n",
    "import numpy as np\n",
    "from sklearn.model_selection import GridSearchCV, train_test_split, cross_validate\n",
    "from sklearn.linear_model import LogisticRegression\n",
    "from sklearn.tree import DecisionTreeClassifier\n",
    "from sklearn.neighbors import KNeighborsClassifier\n",
    "from sklearn.ensemble import RandomForestClassifier, GradientBoostingClassifier, AdaBoostClassifier\n",
    "from sklearn.metrics import (make_scorer,\n",
    "                             roc_auc_score,\n",
    "                             roc_curve,\n",
    "                             f1_score,\n",
    "                             recall_score,\n",
    "                             precision_score,\n",
    "                             precision_recall_curve,\n",
    "                             classification_report,\n",
    "                             plot_confusion_matrix,\n",
    "                             plot_roc_curve)\n",
    "import joblib\n",
    "import itertools\n",
    "import matplotlib.pyplot as plt\n",
    "import seaborn as sns\n",
    "%matplotlib inline\n",
    "\n",
    "seed = 36"
   ]
  },
  {
   "cell_type": "code",
   "execution_count": 3,
   "metadata": {},
   "outputs": [
    {
     "data": {
      "text/plain": [
       "((11946, 40), (11946,), (410, 38), (410,))"
      ]
     },
     "execution_count": 3,
     "metadata": {},
     "output_type": "execute_result"
    }
   ],
   "source": [
    "test = pd.read_csv('../data/notebook_produced_3/test.csv')\n",
    "\n",
    "success_df = test.loc[test.poutcome_success==1, :]\n",
    "success_df = success_df.drop(columns=['poutcome_failure', 'poutcome_success', 'pdays'])\n",
    "\n",
    "other_df = test.loc[test.poutcome_success==0, :]\n",
    "other_df = other_df.drop(columns=['poutcome_success'])\n",
    "\n",
    "\n",
    "X_other = other_df.drop(columns='y')\n",
    "y_other = other_df.y\n",
    "\n",
    "X_success = success_df.drop(columns='y')\n",
    "y_success = success_df.y\n",
    "\n",
    "X_other.shape, y_other.shape, X_success.shape, y_success.shape"
   ]
  },
  {
   "cell_type": "code",
   "execution_count": 4,
   "metadata": {},
   "outputs": [],
   "source": [
    "model_success = joblib.load('../saved_models/final_adaboost_poutcome_success.joblib')\n",
    "model_other = joblib.load('../saved_models/final_adaboost_poutcome_other.joblib')"
   ]
  },
  {
   "cell_type": "code",
   "execution_count": 5,
   "metadata": {},
   "outputs": [
    {
     "name": "stdout",
     "output_type": "stream",
     "text": [
      "0.6184029651471306\n",
      "              precision    recall  f1-score   support\n",
      "\n",
      "           0       0.93      0.89      0.91     10813\n",
      "           1       0.25      0.35      0.29      1133\n",
      "\n",
      "    accuracy                           0.84     11946\n",
      "   macro avg       0.59      0.62      0.60     11946\n",
      "weighted avg       0.86      0.84      0.85     11946\n",
      "\n"
     ]
    },
    {
     "data": {
      "image/png": "[encoded data removed]",
      "text/plain": [
       "<Figure size 432x288 with 2 Axes>"
      ]
     },
     "metadata": {
      "needs_background": "light"
     },
     "output_type": "display_data"
    }
   ],
   "source": [
    "print(roc_auc_score(y_other, model_other.predict(X_other)))\n",
    "\n",
    "print(classification_report(y_other, model_other.predict(X_other)))\n",
    "\n",
    "plot_confusion_matrix(model_other, X_other, y_other,\n",
    "                      display_labels=['no', 'yes'],\n",
    "                      cmap=plt.cm.Blues,\n",
    "                      normalize='true'\n",
    "                     );"
   ]
  },
  {
   "cell_type": "code",
   "execution_count": 6,
   "metadata": {},
   "outputs": [
    {
     "name": "stdout",
     "output_type": "stream",
     "text": [
      "0.6672888593418396\n",
      "              precision    recall  f1-score   support\n",
      "\n",
      "           0       0.57      0.59      0.58       151\n",
      "           1       0.76      0.75      0.75       259\n",
      "\n",
      "    accuracy                           0.69       410\n",
      "   macro avg       0.67      0.67      0.67       410\n",
      "weighted avg       0.69      0.69      0.69       410\n",
      "\n"
     ]
    },
    {
     "data": {
      "image/png": "[encoded data removed]",
      "text/plain": [
       "<Figure size 432x288 with 2 Axes>"
      ]
     },
     "metadata": {
      "needs_background": "light"
     },
     "output_type": "display_data"
    }
   ],
   "source": [
    "print(roc_auc_score(y_success, model_success.predict(X_success)))\n",
    "\n",
    "print(classification_report(y_success, model_success.predict(X_success)))\n",
    "\n",
    "plot_confusion_matrix(model_success, X_success, y_success,\n",
    "                      display_labels=['no', 'yes'],\n",
    "                      cmap=plt.cm.Blues,\n",
    "                      normalize='true'\n",
    "                     );"
   ]
  },
  {
   "cell_type": "code",
   "execution_count": 7,
   "metadata": {},
   "outputs": [],
   "source": [
    "def tp_tn_fn_fp(true_value, predicted_value):\n",
    "    tp, tn, fn, fp = 0, 0, 0, 0\n",
    "    for v, p in zip(true_value, predicted_value):\n",
    "        if v == p:\n",
    "            if v+p == 2: tp += 1\n",
    "            else: tn += 1\n",
    "        elif v == 1: fn += 1\n",
    "        else: fp += 1\n",
    "    return tp, tn, fn, fp\n",
    "\n",
    "def lift_score(true_value, predicted_value):\n",
    "    tp, tn, fn, fp = tp_tn_fn_fp(true_value, predicted_value)\n",
    "    return ( tp/(tp+fp) ) / ( (tp+fn) / (tp+tn+fp+fn) )"
   ]
  },
  {
   "cell_type": "code",
   "execution_count": 8,
   "metadata": {},
   "outputs": [],
   "source": [
    "yy = pd.concat([y_other, y_success], ignore_index=False)\n",
    "yy_predict = np.hstack((model_other.predict(X_other), model_success.predict(X_success)))\n",
    "yy_proba = np.hstack((model_other.predict_proba(X_other)[:,1], model_success.predict_proba(X_success)[:,1]))"
   ]
  },
  {
   "cell_type": "code",
   "execution_count": 9,
   "metadata": {},
   "outputs": [
    {
     "data": {
      "text/plain": [
       "2.85296592210224"
      ]
     },
     "execution_count": 9,
     "metadata": {},
     "output_type": "execute_result"
    }
   ],
   "source": [
    "lift_score(yy, yy_predict)"
   ]
  },
  {
   "cell_type": "code",
   "execution_count": 10,
   "metadata": {},
   "outputs": [
    {
     "data": {
      "text/html": [
       "<div>\n",
       "<style scoped>\n",
       "    .dataframe tbody tr th:only-of-type {\n",
       "        vertical-align: middle;\n",
       "    }\n",
       "\n",
       "    .dataframe tbody tr th {\n",
       "        vertical-align: top;\n",
       "    }\n",
       "\n",
       "    .dataframe thead th {\n",
       "        text-align: right;\n",
       "    }\n",
       "</style>\n",
       "<table border=\"1\" class=\"dataframe\">\n",
       "  <thead>\n",
       "    <tr style=\"text-align: right;\">\n",
       "      <th></th>\n",
       "      <th>target</th>\n",
       "      <th>probability</th>\n",
       "      <th>prediction</th>\n",
       "    </tr>\n",
       "  </thead>\n",
       "  <tbody>\n",
       "    <tr>\n",
       "      <th>0</th>\n",
       "      <td>0.0</td>\n",
       "      <td>0.265455</td>\n",
       "      <td>0.0</td>\n",
       "    </tr>\n",
       "    <tr>\n",
       "      <th>1</th>\n",
       "      <td>0.0</td>\n",
       "      <td>0.003820</td>\n",
       "      <td>0.0</td>\n",
       "    </tr>\n",
       "    <tr>\n",
       "      <th>2</th>\n",
       "      <td>0.0</td>\n",
       "      <td>0.265455</td>\n",
       "      <td>0.0</td>\n",
       "    </tr>\n",
       "    <tr>\n",
       "      <th>3</th>\n",
       "      <td>0.0</td>\n",
       "      <td>0.000000</td>\n",
       "      <td>0.0</td>\n",
       "    </tr>\n",
       "    <tr>\n",
       "      <th>4</th>\n",
       "      <td>0.0</td>\n",
       "      <td>0.078264</td>\n",
       "      <td>0.0</td>\n",
       "    </tr>\n",
       "    <tr>\n",
       "      <th>...</th>\n",
       "      <td>...</td>\n",
       "      <td>...</td>\n",
       "      <td>...</td>\n",
       "    </tr>\n",
       "    <tr>\n",
       "      <th>12351</th>\n",
       "      <td>1.0</td>\n",
       "      <td>0.499947</td>\n",
       "      <td>0.0</td>\n",
       "    </tr>\n",
       "    <tr>\n",
       "      <th>12352</th>\n",
       "      <td>1.0</td>\n",
       "      <td>0.498710</td>\n",
       "      <td>0.0</td>\n",
       "    </tr>\n",
       "    <tr>\n",
       "      <th>12353</th>\n",
       "      <td>1.0</td>\n",
       "      <td>0.498417</td>\n",
       "      <td>0.0</td>\n",
       "    </tr>\n",
       "    <tr>\n",
       "      <th>12354</th>\n",
       "      <td>1.0</td>\n",
       "      <td>0.505311</td>\n",
       "      <td>1.0</td>\n",
       "    </tr>\n",
       "    <tr>\n",
       "      <th>12355</th>\n",
       "      <td>1.0</td>\n",
       "      <td>0.504387</td>\n",
       "      <td>1.0</td>\n",
       "    </tr>\n",
       "  </tbody>\n",
       "</table>\n",
       "<p>12356 rows × 3 columns</p>\n",
       "</div>"
      ],
      "text/plain": [
       "       target  probability  prediction\n",
       "0         0.0     0.265455         0.0\n",
       "1         0.0     0.003820         0.0\n",
       "2         0.0     0.265455         0.0\n",
       "3         0.0     0.000000         0.0\n",
       "4         0.0     0.078264         0.0\n",
       "...       ...          ...         ...\n",
       "12351     1.0     0.499947         0.0\n",
       "12352     1.0     0.498710         0.0\n",
       "12353     1.0     0.498417         0.0\n",
       "12354     1.0     0.505311         1.0\n",
       "12355     1.0     0.504387         1.0\n",
       "\n",
       "[12356 rows x 3 columns]"
      ]
     },
     "execution_count": 10,
     "metadata": {},
     "output_type": "execute_result"
    }
   ],
   "source": [
    "res = pd.DataFrame(np.column_stack((yy, yy_proba, yy_predict)),\n",
    "                   columns=['target', 'probability', 'prediction'])\n",
    "res"
   ]
  },
  {
   "cell_type": "code",
   "execution_count": 13,
   "metadata": {},
   "outputs": [
    {
     "data": {
      "text/html": [
       "<div>\n",
       "<style scoped>\n",
       "    .dataframe tbody tr th:only-of-type {\n",
       "        vertical-align: middle;\n",
       "    }\n",
       "\n",
       "    .dataframe tbody tr th {\n",
       "        vertical-align: top;\n",
       "    }\n",
       "\n",
       "    .dataframe thead th {\n",
       "        text-align: right;\n",
       "    }\n",
       "</style>\n",
       "<table border=\"1\" class=\"dataframe\">\n",
       "  <thead>\n",
       "    <tr style=\"text-align: right;\">\n",
       "      <th></th>\n",
       "      <th>above_probability</th>\n",
       "      <th>lift</th>\n",
       "      <th>count</th>\n",
       "    </tr>\n",
       "  </thead>\n",
       "  <tbody>\n",
       "    <tr>\n",
       "      <th>0</th>\n",
       "      <td>0.0</td>\n",
       "      <td>1.000000</td>\n",
       "      <td>Yes: 1392, No: 10964</td>\n",
       "    </tr>\n",
       "    <tr>\n",
       "      <th>1</th>\n",
       "      <td>0.1</td>\n",
       "      <td>1.656249</td>\n",
       "      <td>Yes: 1063, No: 4634</td>\n",
       "    </tr>\n",
       "    <tr>\n",
       "      <th>2</th>\n",
       "      <td>0.2</td>\n",
       "      <td>1.917161</td>\n",
       "      <td>Yes: 927, No: 3365</td>\n",
       "    </tr>\n",
       "    <tr>\n",
       "      <th>3</th>\n",
       "      <td>0.3</td>\n",
       "      <td>2.178956</td>\n",
       "      <td>Yes: 814, No: 2502</td>\n",
       "    </tr>\n",
       "    <tr>\n",
       "      <th>4</th>\n",
       "      <td>0.4</td>\n",
       "      <td>2.467766</td>\n",
       "      <td>Yes: 722, No: 1875</td>\n",
       "    </tr>\n",
       "    <tr>\n",
       "      <th>5</th>\n",
       "      <td>0.5</td>\n",
       "      <td>2.864624</td>\n",
       "      <td>Yes: 588, No: 1234</td>\n",
       "    </tr>\n",
       "    <tr>\n",
       "      <th>6</th>\n",
       "      <td>0.6</td>\n",
       "      <td>2.427672</td>\n",
       "      <td>Yes: 291, No: 773</td>\n",
       "    </tr>\n",
       "    <tr>\n",
       "      <th>7</th>\n",
       "      <td>0.7</td>\n",
       "      <td>2.719018</td>\n",
       "      <td>Yes: 223, No: 505</td>\n",
       "    </tr>\n",
       "    <tr>\n",
       "      <th>8</th>\n",
       "      <td>0.8</td>\n",
       "      <td>3.064707</td>\n",
       "      <td>Yes: 164, No: 311</td>\n",
       "    </tr>\n",
       "    <tr>\n",
       "      <th>9</th>\n",
       "      <td>0.9</td>\n",
       "      <td>3.470212</td>\n",
       "      <td>Yes: 95, No: 148</td>\n",
       "    </tr>\n",
       "  </tbody>\n",
       "</table>\n",
       "</div>"
      ],
      "text/plain": [
       "   above_probability      lift                 count\n",
       "0                0.0  1.000000  Yes: 1392, No: 10964\n",
       "1                0.1  1.656249   Yes: 1063, No: 4634\n",
       "2                0.2  1.917161    Yes: 927, No: 3365\n",
       "3                0.3  2.178956    Yes: 814, No: 2502\n",
       "4                0.4  2.467766    Yes: 722, No: 1875\n",
       "5                0.5  2.864624    Yes: 588, No: 1234\n",
       "6                0.6  2.427672     Yes: 291, No: 773\n",
       "7                0.7  2.719018     Yes: 223, No: 505\n",
       "8                0.8  3.064707     Yes: 164, No: 311\n",
       "9                0.9  3.470212      Yes: 95, No: 148"
      ]
     },
     "execution_count": 13,
     "metadata": {},
     "output_type": "execute_result"
    }
   ],
   "source": [
    "population = res.target.value_counts()\n",
    "population_ratio = population.loc[1.0]/population.sum()\n",
    "\n",
    "l = []\n",
    "for i in np.arange(0, 1, .1):\n",
    "    d = res.loc[res.probability >= i,:]\n",
    "#     count = d.shape[0]\n",
    "    sample = d.target.value_counts()\n",
    "    sample_ratio = sample.loc[1.0]/sample.sum()\n",
    "#     l.append([round(i, ndigits=1), sample_ratio/population_ratio, count])\n",
    "    l.append([round(i, ndigits=1), sample_ratio/population_ratio, f'Yes: {sample.loc[1.0]}, No: {sample.loc[0.0]}'])\n",
    "above_prob = pd.DataFrame(l, columns=['above_probability', 'lift', 'count'])\n",
    "\n",
    "above_prob"
   ]
  },
  {
   "cell_type": "code",
   "execution_count": 14,
   "metadata": {},
   "outputs": [
    {
     "data": {
      "image/png": "[encoded data removed]",
      "text/plain": [
       "<Figure size 1440x288 with 1 Axes>"
      ]
     },
     "metadata": {
      "needs_background": "light"
     },
     "output_type": "display_data"
    }
   ],
   "source": [
    "f, ax = plt.subplots(figsize=(20,4))\n",
    "sns.barplot(data=above_prob, x='above_probability', y='lift', ax=ax)\n",
    "\n",
    "for row in above_prob.itertuples():\n",
    "    ax.text(row.Index, row.lift, row.count, color='black', ha=\"center\")\n",
    "\n",
    "ax.hlines(1, -1,10);"
   ]
  },
  {
   "cell_type": "code",
   "execution_count": null,
   "metadata": {},
   "outputs": [],
   "source": []
  },
  {
   "cell_type": "code",
   "execution_count": null,
   "metadata": {},
   "outputs": [],
   "source": []
  },
  {
   "cell_type": "code",
   "execution_count": null,
   "metadata": {},
   "outputs": [],
   "source": []
  },
  {
   "cell_type": "code",
   "execution_count": null,
   "metadata": {},
   "outputs": [],
   "source": []
  }
 ],
 "metadata": {
  "kernelspec": {
   "display_name": "Python 3",
   "language": "python",
   "name": "python3"
  },
  "language_info": {
   "codemirror_mode": {
    "name": "ipython",
    "version": 3
   },
   "file_extension": ".py",
   "mimetype": "text/x-python",
   "name": "python",
   "nbconvert_exporter": "python",
   "pygments_lexer": "ipython3",
   "version": "3.7.3"
  }
 },
 "nbformat": 4,
 "nbformat_minor": 4
}
