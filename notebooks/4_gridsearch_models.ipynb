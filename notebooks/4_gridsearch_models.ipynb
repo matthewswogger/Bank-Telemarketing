{
 "cells": [
  {
   "cell_type": "code",
   "execution_count": 1,
   "metadata": {},
   "outputs": [],
   "source": [
    "import pandas as pd\n",
    "import numpy as np\n",
    "from sklearn.model_selection import GridSearchCV\n",
    "from sklearn.linear_model import LogisticRegression\n",
    "from sklearn.tree import DecisionTreeClassifier\n",
    "from sklearn.neighbors import KNeighborsClassifier\n",
    "from sklearn.ensemble import RandomForestClassifier, GradientBoostingClassifier, AdaBoostClassifier\n",
    "from sklearn.metrics import (make_scorer,\n",
    "                             roc_auc_score,\n",
    "                             roc_curve,\n",
    "                             f1_score,\n",
    "                             recall_score,\n",
    "                             precision_score,\n",
    "                             precision_recall_curve,\n",
    "                             classification_report,\n",
    "                             plot_confusion_matrix,\n",
    "                             plot_roc_curve)\n",
    "import matplotlib.pyplot as plt\n",
    "%matplotlib inline\n",
    "\n",
    "seed = 36"
   ]
  },
  {
   "cell_type": "code",
   "execution_count": null,
   "metadata": {},
   "outputs": [],
   "source": [
    "train = pd.read_csv('../data/notebook_produced_3/train.csv')\n",
    "\n",
    "train.head()"
   ]
  },
  {
   "cell_type": "code",
   "execution_count": null,
   "metadata": {},
   "outputs": [],
   "source": [
    "X = train.drop(columns='y')\n",
    "y = train.y"
   ]
  },
  {
   "cell_type": "markdown",
   "metadata": {},
   "source": [
    "## Grid search for the best model to use"
   ]
  },
  {
   "cell_type": "code",
   "execution_count": null,
   "metadata": {},
   "outputs": [],
   "source": [
    "# names = [\n",
    "#     'logistic_reg',\n",
    "#     'knn',\n",
    "#     'decision_tree',\n",
    "#     'random_forest',\n",
    "#     'grad_boost',\n",
    "#     'ada_boost'\n",
    "# ]\n",
    "\n",
    "# models = [\n",
    "#     LogisticRegression(solver='saga', fit_intercept=True, max_iter=1000, random_state=seed),\n",
    "#     KNeighborsClassifier(),\n",
    "#     DecisionTreeClassifier(random_state=seed),\n",
    "#     RandomForestClassifier(random_state=seed),\n",
    "#     GradientBoostingClassifier(random_state=seed),\n",
    "#     AdaBoostClassifier(random_state=seed)\n",
    "# ]\n",
    "\n",
    "# param_grid = [\n",
    "#     {\n",
    "#         'penalty': ['l1', 'l2'],\n",
    "#         'C': [.1, .5, 1., 1.5, 2]\n",
    "#     },\n",
    "#     {\n",
    "#         'n_neighbors': [1, 3, 5, 7],\n",
    "#         'metric': ['manhattan', 'euclidean', 'jaccard']\n",
    "#     },\n",
    "#     {\n",
    "#         'criterion': ['gini', 'entropy'],\n",
    "#         'max_depth': [5, 15, 30, None]\n",
    "#     },\n",
    "#     {\n",
    "#         'n_estimators': [100, 200, 300],\n",
    "#         'criterion': ['gini', 'entropy'],\n",
    "#         'max_depth': [30, 50, None]\n",
    "#     },\n",
    "#     {\n",
    "#         'learning_rate': [.1, .5, 1.],\n",
    "#         'n_estimators': [300, 500],\n",
    "#         'max_depth': [3, 8]\n",
    "#     },\n",
    "#     {\n",
    "#         'n_estimators': [10, 50, 100],\n",
    "#         'learning_rate': [.5, 1., 1.5]\n",
    "#     }\n",
    "# ]\n",
    "\n",
    "# for name, model, params in zip(names, models, param_grid):\n",
    "#     clf = GridSearchCV(\n",
    "#                 model,\n",
    "#                 params,\n",
    "#                 scoring='roc_auc',\n",
    "#                 cv=5,\n",
    "#                 n_jobs=-1\n",
    "#             )\n",
    "#     clf.fit(X, y)\n",
    "#     print(name)\n",
    "#     print(clf.best_score_)\n",
    "#     print(clf.best_params_)\n",
    "#     print('------------------------------')"
   ]
  },
  {
   "cell_type": "code",
   "execution_count": null,
   "metadata": {},
   "outputs": [],
   "source": [
    "# logistic_reg\n",
    "# 0.7543330036010423\n",
    "# {'C': 0.1, 'penalty': 'l2'}\n",
    "# ------------------------------\n",
    "# knn\n",
    "# 0.7914429160608701\n",
    "# {'metric': 'manhattan', 'n_neighbors': 7}\n",
    "# ------------------------------\n",
    "# decision_tree\n",
    "# 0.8378912734108533\n",
    "# {'criterion': 'entropy', 'max_depth': 30}\n",
    "# ------------------------------\n",
    "# random_forest\n",
    "# 0.8460280605880222\n",
    "# {'criterion': 'gini', 'max_depth': 15, 'n_estimators': 200}\n",
    "# ------------------------------\n",
    "# grad_boost\n",
    "# 0.8520771463668148\n",
    "# {'learning_rate': 0.1, 'max_depth': 8, 'n_estimators': 300}\n",
    "# ------------------------------\n",
    "# ada_boost\n",
    "# 0.8054061181008842\n",
    "# {'learning_rate': 1.5, 'n_estimators': 100}\n",
    "# ------------------------------"
   ]
  },
  {
   "cell_type": "code",
   "execution_count": 6,
   "metadata": {},
   "outputs": [],
   "source": [
    "def tp_tn_fn_fp(true_value, predicted_value):\n",
    "    tp, tn, fn, fp = 0, 0, 0, 0\n",
    "    for v, p in zip(true_value, predicted_value):\n",
    "        if v == p:\n",
    "            if v+p == 2: tp += 1\n",
    "            else: tn += 1\n",
    "        elif v == 1: fn += 1\n",
    "        else: fp += 1\n",
    "    return tp, tn, fn, fp\n",
    "\n",
    "def lift_score(true_value, predicted_value):\n",
    "    tp, tn, fn, fp = tp_tn_fn_fp(true_value, predicted_value)\n",
    "    return ( tp/(tp+fp) ) / ( (tp+fn) / (tp+tn+fp+fn) )\n",
    "\n",
    "lift_scorer = make_scorer(lift_score)"
   ]
  },
  {
   "cell_type": "code",
   "execution_count": null,
   "metadata": {},
   "outputs": [],
   "source": [
    "models = [\n",
    "    RandomForestClassifier(random_state=seed)\n",
    "]\n",
    "\n",
    "param_grid = [\n",
    "    {\n",
    "        'n_estimators': [100, 200, 300],\n",
    "        'criterion': ['gini', 'entropy'],\n",
    "        'max_depth': [30, 50, None]\n",
    "    }\n",
    "]\n",
    "\n",
    "\n",
    "clf = GridSearchCV(\n",
    "            models[0],\n",
    "            param_grid[0],\n",
    "            scoring='roc_auc',\n",
    "#             scoring={\n",
    "#                 'roc_auc': make_scorer(roc_auc_score),\n",
    "#                 'lift_score': lift_scorer\n",
    "#             },\n",
    "            cv=5,\n",
    "            n_jobs=-1\n",
    "        )\n",
    "clf.fit(X, y)\n",
    "\n",
    "print(clf.best_score_)\n",
    "print(clf.best_params_)\n",
    "\n",
    "# models = [\n",
    "#     RandomForestClassifier(random_state=seed)\n",
    "# ]\n",
    "\n",
    "# param_grid = [\n",
    "#     {\n",
    "#         'n_estimators': [100, 200, 300],\n",
    "#         'criterion': ['gini', 'entropy'],\n",
    "#         'max_depth': [30, 50, None]\n",
    "#     }\n",
    "# ]\n",
    "\n",
    "\n",
    "# clf = GridSearchCV(\n",
    "#             models[0],\n",
    "#             param_grid[0],\n",
    "# #             scoring='roc_auc',\n",
    "#             scoring={\n",
    "#                 'roc_auc': make_scorer(roc_auc_score),\n",
    "# #                 'lift_score': lift_scorer\n",
    "#             },\n",
    "#             cv=5,\n",
    "#             n_jobs=-1,\n",
    "#             refit='roc_auc'\n",
    "#         )\n",
    "# clf.fit(X, y)\n",
    "\n",
    "# print(clf.best_score_)\n",
    "# print(clf.best_params_)"
   ]
  },
  {
   "cell_type": "code",
   "execution_count": null,
   "metadata": {},
   "outputs": [],
   "source": [
    "r = clf.cv_results_\n",
    "for i in r.keys():\n",
    "    print(i)"
   ]
  },
  {
   "cell_type": "code",
   "execution_count": null,
   "metadata": {},
   "outputs": [],
   "source": [
    "print(classification_report(y, clf.predict(X)))"
   ]
  },
  {
   "cell_type": "markdown",
   "metadata": {},
   "source": [
    "# holdout data"
   ]
  },
  {
   "cell_type": "code",
   "execution_count": 2,
   "metadata": {},
   "outputs": [
    {
     "data": {
      "text/html": [
       "<div>\n",
       "<style scoped>\n",
       "    .dataframe tbody tr th:only-of-type {\n",
       "        vertical-align: middle;\n",
       "    }\n",
       "\n",
       "    .dataframe tbody tr th {\n",
       "        vertical-align: top;\n",
       "    }\n",
       "\n",
       "    .dataframe thead th {\n",
       "        text-align: right;\n",
       "    }\n",
       "</style>\n",
       "<table border=\"1\" class=\"dataframe\">\n",
       "  <thead>\n",
       "    <tr style=\"text-align: right;\">\n",
       "      <th></th>\n",
       "      <th>y</th>\n",
       "      <th>job_retired</th>\n",
       "      <th>job_student</th>\n",
       "      <th>default_unknown</th>\n",
       "      <th>contact_cellular</th>\n",
       "      <th>contact_telephone</th>\n",
       "      <th>month_dec</th>\n",
       "      <th>month_mar</th>\n",
       "      <th>month_may</th>\n",
       "      <th>month_oct</th>\n",
       "      <th>month_sep</th>\n",
       "      <th>poutcome_success</th>\n",
       "      <th>pdays</th>\n",
       "      <th>previous</th>\n",
       "      <th>emp_var_rate</th>\n",
       "      <th>euribor3m</th>\n",
       "      <th>nr_employed</th>\n",
       "      <th>cons_price_idx</th>\n",
       "      <th>cons_conf_idx</th>\n",
       "    </tr>\n",
       "  </thead>\n",
       "  <tbody>\n",
       "    <tr>\n",
       "      <th>0</th>\n",
       "      <td>0</td>\n",
       "      <td>0</td>\n",
       "      <td>0</td>\n",
       "      <td>0</td>\n",
       "      <td>0</td>\n",
       "      <td>1</td>\n",
       "      <td>0</td>\n",
       "      <td>0</td>\n",
       "      <td>1</td>\n",
       "      <td>0</td>\n",
       "      <td>0</td>\n",
       "      <td>0</td>\n",
       "      <td>0</td>\n",
       "      <td>0</td>\n",
       "      <td>1.1</td>\n",
       "      <td>4.857</td>\n",
       "      <td>5191.0</td>\n",
       "      <td>0.93994</td>\n",
       "      <td>-36.4</td>\n",
       "    </tr>\n",
       "    <tr>\n",
       "      <th>1</th>\n",
       "      <td>0</td>\n",
       "      <td>0</td>\n",
       "      <td>0</td>\n",
       "      <td>1</td>\n",
       "      <td>0</td>\n",
       "      <td>1</td>\n",
       "      <td>0</td>\n",
       "      <td>0</td>\n",
       "      <td>1</td>\n",
       "      <td>0</td>\n",
       "      <td>0</td>\n",
       "      <td>0</td>\n",
       "      <td>0</td>\n",
       "      <td>0</td>\n",
       "      <td>1.1</td>\n",
       "      <td>4.857</td>\n",
       "      <td>5191.0</td>\n",
       "      <td>0.93994</td>\n",
       "      <td>-36.4</td>\n",
       "    </tr>\n",
       "    <tr>\n",
       "      <th>2</th>\n",
       "      <td>0</td>\n",
       "      <td>0</td>\n",
       "      <td>0</td>\n",
       "      <td>0</td>\n",
       "      <td>0</td>\n",
       "      <td>1</td>\n",
       "      <td>0</td>\n",
       "      <td>0</td>\n",
       "      <td>1</td>\n",
       "      <td>0</td>\n",
       "      <td>0</td>\n",
       "      <td>0</td>\n",
       "      <td>0</td>\n",
       "      <td>0</td>\n",
       "      <td>1.1</td>\n",
       "      <td>4.857</td>\n",
       "      <td>5191.0</td>\n",
       "      <td>0.93994</td>\n",
       "      <td>-36.4</td>\n",
       "    </tr>\n",
       "    <tr>\n",
       "      <th>3</th>\n",
       "      <td>0</td>\n",
       "      <td>0</td>\n",
       "      <td>0</td>\n",
       "      <td>0</td>\n",
       "      <td>0</td>\n",
       "      <td>1</td>\n",
       "      <td>0</td>\n",
       "      <td>0</td>\n",
       "      <td>1</td>\n",
       "      <td>0</td>\n",
       "      <td>0</td>\n",
       "      <td>0</td>\n",
       "      <td>0</td>\n",
       "      <td>0</td>\n",
       "      <td>1.1</td>\n",
       "      <td>4.857</td>\n",
       "      <td>5191.0</td>\n",
       "      <td>0.93994</td>\n",
       "      <td>-36.4</td>\n",
       "    </tr>\n",
       "    <tr>\n",
       "      <th>4</th>\n",
       "      <td>0</td>\n",
       "      <td>0</td>\n",
       "      <td>0</td>\n",
       "      <td>0</td>\n",
       "      <td>0</td>\n",
       "      <td>1</td>\n",
       "      <td>0</td>\n",
       "      <td>0</td>\n",
       "      <td>1</td>\n",
       "      <td>0</td>\n",
       "      <td>0</td>\n",
       "      <td>0</td>\n",
       "      <td>0</td>\n",
       "      <td>0</td>\n",
       "      <td>1.1</td>\n",
       "      <td>4.857</td>\n",
       "      <td>5191.0</td>\n",
       "      <td>0.93994</td>\n",
       "      <td>-36.4</td>\n",
       "    </tr>\n",
       "  </tbody>\n",
       "</table>\n",
       "</div>"
      ],
      "text/plain": [
       "   y  job_retired  job_student  default_unknown  contact_cellular  \\\n",
       "0  0            0            0                0                 0   \n",
       "1  0            0            0                1                 0   \n",
       "2  0            0            0                0                 0   \n",
       "3  0            0            0                0                 0   \n",
       "4  0            0            0                0                 0   \n",
       "\n",
       "   contact_telephone  month_dec  month_mar  month_may  month_oct  month_sep  \\\n",
       "0                  1          0          0          1          0          0   \n",
       "1                  1          0          0          1          0          0   \n",
       "2                  1          0          0          1          0          0   \n",
       "3                  1          0          0          1          0          0   \n",
       "4                  1          0          0          1          0          0   \n",
       "\n",
       "   poutcome_success  pdays  previous  emp_var_rate  euribor3m  nr_employed  \\\n",
       "0                 0      0         0           1.1      4.857       5191.0   \n",
       "1                 0      0         0           1.1      4.857       5191.0   \n",
       "2                 0      0         0           1.1      4.857       5191.0   \n",
       "3                 0      0         0           1.1      4.857       5191.0   \n",
       "4                 0      0         0           1.1      4.857       5191.0   \n",
       "\n",
       "   cons_price_idx  cons_conf_idx  \n",
       "0         0.93994          -36.4  \n",
       "1         0.93994          -36.4  \n",
       "2         0.93994          -36.4  \n",
       "3         0.93994          -36.4  \n",
       "4         0.93994          -36.4  "
      ]
     },
     "execution_count": 2,
     "metadata": {},
     "output_type": "execute_result"
    }
   ],
   "source": [
    "test = pd.read_csv('../data/notebook_produced_3/test.csv')\n",
    "\n",
    "test.head()"
   ]
  },
  {
   "cell_type": "code",
   "execution_count": 3,
   "metadata": {},
   "outputs": [],
   "source": [
    "X_holdout = test.drop(columns='y')\n",
    "y_holdout = test.y"
   ]
  },
  {
   "cell_type": "code",
   "execution_count": 7,
   "metadata": {},
   "outputs": [
    {
     "name": "stdout",
     "output_type": "stream",
     "text": [
      "              precision    recall  f1-score   support\n",
      "\n",
      "           0       0.93      0.90      0.92     10964\n",
      "           1       0.37      0.45      0.41      1392\n",
      "\n",
      "    accuracy                           0.85     12356\n",
      "   macro avg       0.65      0.68      0.66     12356\n",
      "weighted avg       0.87      0.85      0.86     12356\n",
      "\n"
     ]
    }
   ],
   "source": [
    "print(classification_report(y_holdout, clf.predict(X_holdout)))"
   ]
  },
  {
   "cell_type": "code",
   "execution_count": 8,
   "metadata": {},
   "outputs": [
    {
     "data": {
      "text/plain": [
       "(0.720059241687529, 0.6763907584697254)"
      ]
     },
     "execution_count": 8,
     "metadata": {},
     "output_type": "execute_result"
    }
   ],
   "source": [
    "clf.score(X_holdout, y_holdout), roc_auc_score(y_holdout, clf.predict(X_holdout))"
   ]
  },
  {
   "cell_type": "code",
   "execution_count": 9,
   "metadata": {},
   "outputs": [
    {
     "data": {
      "image/png": "[encoded data removed]",
      "text/plain": [
       "<Figure size 432x288 with 2 Axes>"
      ]
     },
     "metadata": {
      "needs_background": "light"
     },
     "output_type": "display_data"
    }
   ],
   "source": [
    "plot_confusion_matrix(clf, X_holdout, y_holdout,\n",
    "                      display_labels=['no', 'yes'],\n",
    "                      cmap=plt.cm.Blues,\n",
    "                      normalize='true'\n",
    "                     );"
   ]
  },
  {
   "cell_type": "code",
   "execution_count": 10,
   "metadata": {},
   "outputs": [
    {
     "data": {
      "text/plain": [
       "3.314719659918694"
      ]
     },
     "execution_count": 10,
     "metadata": {},
     "output_type": "execute_result"
    }
   ],
   "source": [
    "lift_score(y_holdout, clf.predict(X_holdout))"
   ]
  },
  {
   "cell_type": "code",
   "execution_count": 4,
   "metadata": {},
   "outputs": [],
   "source": [
    "import joblib"
   ]
  },
  {
   "cell_type": "code",
   "execution_count": null,
   "metadata": {},
   "outputs": [],
   "source": [
    "# joblib.dump(clf, '../saved_models/random_forest_feature_selected.joblib')"
   ]
  },
  {
   "cell_type": "code",
   "execution_count": 5,
   "metadata": {},
   "outputs": [],
   "source": [
    "clf = joblib.load('../saved_models/random_forest_feature_selected.joblib')"
   ]
  },
  {
   "cell_type": "code",
   "execution_count": 47,
   "metadata": {},
   "outputs": [],
   "source": [
    "y_probs = clf.predict_proba(X_holdout)[:,1]\n",
    "y_pred = clf.predict(X_holdout)"
   ]
  },
  {
   "cell_type": "code",
   "execution_count": 170,
   "metadata": {},
   "outputs": [],
   "source": [
    "res = pd.DataFrame(np.column_stack((y_holdout, y_probs, y_pred)),\n",
    "                   columns=['target', 'probability', 'prediction'])\n",
    "res['decile_group'] = pd.qcut(res.probability, 10, labels=['dec 1', 'dec 2', 'dec 3', 'dec 4', 'dec 5', 'dec 6', 'dec 7', 'dec 8', 'dec 9', 'dec 10'])\n"
   ]
  },
  {
   "cell_type": "code",
   "execution_count": 171,
   "metadata": {},
   "outputs": [],
   "source": [
    "import seaborn as sns"
   ]
  },
  {
   "cell_type": "code",
   "execution_count": 172,
   "metadata": {},
   "outputs": [
    {
     "data": {
      "image/png": "[encoded data removed]",
      "text/plain": [
       "<Figure size 432x288 with 1 Axes>"
      ]
     },
     "metadata": {
      "needs_background": "light"
     },
     "output_type": "display_data"
    }
   ],
   "source": [
    "g = res.groupby(['decile_group', 'target']).count()\n",
    "sns.barplot(data=g.reset_index(), x='decile_group', y='probability', hue='target');"
   ]
  },
  {
   "cell_type": "code",
   "execution_count": 173,
   "metadata": {},
   "outputs": [],
   "source": [
    "population = res.target.value_counts()\n",
    "population_ratio = population.loc[1.0]/population.sum()\n",
    "\n",
    "l = []\n",
    "for dec_group in res.decile_group.unique():\n",
    "    dec = res.loc[res.decile_group==dec_group, :]\n",
    "    sample = dec.target.value_counts()\n",
    "    sample_ratio = sample.loc[1.0]/sample.sum()\n",
    "    l.append([dec_group, sample_ratio/population_ratio])\n",
    "deciles = pd.DataFrame(l, columns=['decile', 'lift'])"
   ]
  },
  {
   "cell_type": "code",
   "execution_count": 174,
   "metadata": {},
   "outputs": [],
   "source": [
    "l = []\n",
    "for i in np.arange(0, 1, .1):\n",
    "    d = res.loc[res.probability >= i,:]\n",
    "    sample = d.target.value_counts()\n",
    "    sample_ratio = sample.loc[1.0]/sample.sum()\n",
    "    l.append([round(i, ndigits=1), sample_ratio/population_ratio])\n",
    "above_prob = pd.DataFrame(l, columns=['above_probability', 'lift'])"
   ]
  },
  {
   "cell_type": "code",
   "execution_count": 175,
   "metadata": {},
   "outputs": [
    {
     "data": {
      "image/png": "[encoded data removed]",
      "text/plain": [
       "<Figure size 1440x288 with 2 Axes>"
      ]
     },
     "metadata": {
      "needs_background": "light"
     },
     "output_type": "display_data"
    }
   ],
   "source": [
    "f, (ax1, ax2) = plt.subplots(ncols=2, figsize=(20,4))\n",
    "sns.barplot(data=above_prob, x='above_probability', y='lift', ax=ax1)\n",
    "sns.barplot(data=deciles, x='decile', y='lift', ax=ax2)\n",
    "ax1.hlines(1, -1, 10)\n",
    "ax2.hlines(1, -1, 10);"
   ]
  },
  {
   "cell_type": "code",
   "execution_count": 188,
   "metadata": {},
   "outputs": [
    {
     "data": {
      "text/html": [
       "<div>\n",
       "<style scoped>\n",
       "    .dataframe tbody tr th:only-of-type {\n",
       "        vertical-align: middle;\n",
       "    }\n",
       "\n",
       "    .dataframe tbody tr th {\n",
       "        vertical-align: top;\n",
       "    }\n",
       "\n",
       "    .dataframe thead th {\n",
       "        text-align: right;\n",
       "    }\n",
       "</style>\n",
       "<table border=\"1\" class=\"dataframe\">\n",
       "  <thead>\n",
       "    <tr style=\"text-align: right;\">\n",
       "      <th></th>\n",
       "      <th>job_retired</th>\n",
       "      <th>job_student</th>\n",
       "      <th>default_unknown</th>\n",
       "      <th>contact_cellular</th>\n",
       "      <th>contact_telephone</th>\n",
       "      <th>month_dec</th>\n",
       "      <th>month_mar</th>\n",
       "      <th>month_may</th>\n",
       "      <th>month_oct</th>\n",
       "      <th>month_sep</th>\n",
       "      <th>poutcome_success</th>\n",
       "      <th>pdays</th>\n",
       "      <th>previous</th>\n",
       "      <th>emp_var_rate</th>\n",
       "      <th>euribor3m</th>\n",
       "      <th>nr_employed</th>\n",
       "      <th>cons_price_idx</th>\n",
       "      <th>cons_conf_idx</th>\n",
       "      <th>y_pred</th>\n",
       "      <th>y_probs</th>\n",
       "    </tr>\n",
       "  </thead>\n",
       "  <tbody>\n",
       "    <tr>\n",
       "      <th>0</th>\n",
       "      <td>0</td>\n",
       "      <td>0</td>\n",
       "      <td>0</td>\n",
       "      <td>0</td>\n",
       "      <td>1</td>\n",
       "      <td>0</td>\n",
       "      <td>0</td>\n",
       "      <td>1</td>\n",
       "      <td>0</td>\n",
       "      <td>0</td>\n",
       "      <td>0</td>\n",
       "      <td>0</td>\n",
       "      <td>0</td>\n",
       "      <td>1.1</td>\n",
       "      <td>4.857</td>\n",
       "      <td>5191.0</td>\n",
       "      <td>0.93994</td>\n",
       "      <td>-36.4</td>\n",
       "      <td>0</td>\n",
       "      <td>0.177887</td>\n",
       "    </tr>\n",
       "    <tr>\n",
       "      <th>1</th>\n",
       "      <td>0</td>\n",
       "      <td>0</td>\n",
       "      <td>1</td>\n",
       "      <td>0</td>\n",
       "      <td>1</td>\n",
       "      <td>0</td>\n",
       "      <td>0</td>\n",
       "      <td>1</td>\n",
       "      <td>0</td>\n",
       "      <td>0</td>\n",
       "      <td>0</td>\n",
       "      <td>0</td>\n",
       "      <td>0</td>\n",
       "      <td>1.1</td>\n",
       "      <td>4.857</td>\n",
       "      <td>5191.0</td>\n",
       "      <td>0.93994</td>\n",
       "      <td>-36.4</td>\n",
       "      <td>0</td>\n",
       "      <td>0.183234</td>\n",
       "    </tr>\n",
       "    <tr>\n",
       "      <th>2</th>\n",
       "      <td>0</td>\n",
       "      <td>0</td>\n",
       "      <td>0</td>\n",
       "      <td>0</td>\n",
       "      <td>1</td>\n",
       "      <td>0</td>\n",
       "      <td>0</td>\n",
       "      <td>1</td>\n",
       "      <td>0</td>\n",
       "      <td>0</td>\n",
       "      <td>0</td>\n",
       "      <td>0</td>\n",
       "      <td>0</td>\n",
       "      <td>1.1</td>\n",
       "      <td>4.857</td>\n",
       "      <td>5191.0</td>\n",
       "      <td>0.93994</td>\n",
       "      <td>-36.4</td>\n",
       "      <td>0</td>\n",
       "      <td>0.177887</td>\n",
       "    </tr>\n",
       "    <tr>\n",
       "      <th>3</th>\n",
       "      <td>0</td>\n",
       "      <td>0</td>\n",
       "      <td>0</td>\n",
       "      <td>0</td>\n",
       "      <td>1</td>\n",
       "      <td>0</td>\n",
       "      <td>0</td>\n",
       "      <td>1</td>\n",
       "      <td>0</td>\n",
       "      <td>0</td>\n",
       "      <td>0</td>\n",
       "      <td>0</td>\n",
       "      <td>0</td>\n",
       "      <td>1.1</td>\n",
       "      <td>4.857</td>\n",
       "      <td>5191.0</td>\n",
       "      <td>0.93994</td>\n",
       "      <td>-36.4</td>\n",
       "      <td>0</td>\n",
       "      <td>0.177887</td>\n",
       "    </tr>\n",
       "    <tr>\n",
       "      <th>4</th>\n",
       "      <td>0</td>\n",
       "      <td>0</td>\n",
       "      <td>0</td>\n",
       "      <td>0</td>\n",
       "      <td>1</td>\n",
       "      <td>0</td>\n",
       "      <td>0</td>\n",
       "      <td>1</td>\n",
       "      <td>0</td>\n",
       "      <td>0</td>\n",
       "      <td>0</td>\n",
       "      <td>0</td>\n",
       "      <td>0</td>\n",
       "      <td>1.1</td>\n",
       "      <td>4.857</td>\n",
       "      <td>5191.0</td>\n",
       "      <td>0.93994</td>\n",
       "      <td>-36.4</td>\n",
       "      <td>0</td>\n",
       "      <td>0.177887</td>\n",
       "    </tr>\n",
       "  </tbody>\n",
       "</table>\n",
       "</div>"
      ],
      "text/plain": [
       "   job_retired  job_student  default_unknown  contact_cellular  \\\n",
       "0            0            0                0                 0   \n",
       "1            0            0                1                 0   \n",
       "2            0            0                0                 0   \n",
       "3            0            0                0                 0   \n",
       "4            0            0                0                 0   \n",
       "\n",
       "   contact_telephone  month_dec  month_mar  month_may  month_oct  month_sep  \\\n",
       "0                  1          0          0          1          0          0   \n",
       "1                  1          0          0          1          0          0   \n",
       "2                  1          0          0          1          0          0   \n",
       "3                  1          0          0          1          0          0   \n",
       "4                  1          0          0          1          0          0   \n",
       "\n",
       "   poutcome_success  pdays  previous  emp_var_rate  euribor3m  nr_employed  \\\n",
       "0                 0      0         0           1.1      4.857       5191.0   \n",
       "1                 0      0         0           1.1      4.857       5191.0   \n",
       "2                 0      0         0           1.1      4.857       5191.0   \n",
       "3                 0      0         0           1.1      4.857       5191.0   \n",
       "4                 0      0         0           1.1      4.857       5191.0   \n",
       "\n",
       "   cons_price_idx  cons_conf_idx  y_pred   y_probs  \n",
       "0         0.93994          -36.4       0  0.177887  \n",
       "1         0.93994          -36.4       0  0.183234  \n",
       "2         0.93994          -36.4       0  0.177887  \n",
       "3         0.93994          -36.4       0  0.177887  \n",
       "4         0.93994          -36.4       0  0.177887  "
      ]
     },
     "execution_count": 188,
     "metadata": {},
     "output_type": "execute_result"
    }
   ],
   "source": [
    "test.loc[:, 'job_retired':].head()"
   ]
  },
  {
   "cell_type": "code",
   "execution_count": null,
   "metadata": {},
   "outputs": [],
   "source": []
  },
  {
   "cell_type": "code",
   "execution_count": null,
   "metadata": {},
   "outputs": [],
   "source": []
  },
  {
   "cell_type": "code",
   "execution_count": null,
   "metadata": {},
   "outputs": [],
   "source": []
  },
  {
   "cell_type": "code",
   "execution_count": null,
   "metadata": {},
   "outputs": [],
   "source": []
  },
  {
   "cell_type": "code",
   "execution_count": null,
   "metadata": {},
   "outputs": [],
   "source": []
  }
 ],
 "metadata": {
  "kernelspec": {
   "display_name": "Python 3",
   "language": "python",
   "name": "python3"
  },
  "language_info": {
   "codemirror_mode": {
    "name": "ipython",
    "version": 3
   },
   "file_extension": ".py",
   "mimetype": "text/x-python",
   "name": "python",
   "nbconvert_exporter": "python",
   "pygments_lexer": "ipython3",
   "version": "3.7.3"
  }
 },
 "nbformat": 4,
 "nbformat_minor": 4
}
