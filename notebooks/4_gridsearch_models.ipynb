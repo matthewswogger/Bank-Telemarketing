{
 "cells": [
  {
   "cell_type": "code",
   "execution_count": 1,
   "metadata": {},
   "outputs": [],
   "source": [
    "import pandas as pd\n",
    "import numpy as np\n",
    "from sklearn.model_selection import GridSearchCV, train_test_split, cross_validate\n",
    "from sklearn.linear_model import LogisticRegression\n",
    "from sklearn.tree import DecisionTreeClassifier\n",
    "from sklearn.neighbors import KNeighborsClassifier\n",
    "from sklearn.ensemble import RandomForestClassifier, GradientBoostingClassifier, AdaBoostClassifier\n",
    "from sklearn.metrics import (make_scorer,\n",
    "                             roc_auc_score,\n",
    "                             roc_curve,\n",
    "                             f1_score,\n",
    "                             recall_score,\n",
    "                             precision_score,\n",
    "                             precision_recall_curve,\n",
    "                             classification_report,\n",
    "                             plot_confusion_matrix,\n",
    "                             plot_roc_curve)\n",
    "import joblib\n",
    "import itertools\n",
    "import matplotlib.pyplot as plt\n",
    "import seaborn as sns\n",
    "%matplotlib inline\n",
    "\n",
    "seed = 36"
   ]
  },
  {
   "cell_type": "code",
   "execution_count": 2,
   "metadata": {},
   "outputs": [
    {
     "data": {
      "text/html": [
       "<div>\n",
       "<style scoped>\n",
       "    .dataframe tbody tr th:only-of-type {\n",
       "        vertical-align: middle;\n",
       "    }\n",
       "\n",
       "    .dataframe tbody tr th {\n",
       "        vertical-align: top;\n",
       "    }\n",
       "\n",
       "    .dataframe thead th {\n",
       "        text-align: right;\n",
       "    }\n",
       "</style>\n",
       "<table border=\"1\" class=\"dataframe\">\n",
       "  <thead>\n",
       "    <tr style=\"text-align: right;\">\n",
       "      <th></th>\n",
       "      <th>pdays</th>\n",
       "      <th>job_admin.</th>\n",
       "      <th>job_blue-collar</th>\n",
       "      <th>job_entrepreneur</th>\n",
       "      <th>job_housemaid</th>\n",
       "      <th>job_management</th>\n",
       "      <th>job_retired</th>\n",
       "      <th>job_self-employed</th>\n",
       "      <th>job_services</th>\n",
       "      <th>job_student</th>\n",
       "      <th>...</th>\n",
       "      <th>day_of_week_wed</th>\n",
       "      <th>poutcome_failure</th>\n",
       "      <th>poutcome_success</th>\n",
       "      <th>previous</th>\n",
       "      <th>emp_var_rate</th>\n",
       "      <th>cons_price_idx</th>\n",
       "      <th>cons_conf_idx</th>\n",
       "      <th>euribor3m</th>\n",
       "      <th>nr_employed</th>\n",
       "      <th>y</th>\n",
       "    </tr>\n",
       "  </thead>\n",
       "  <tbody>\n",
       "    <tr>\n",
       "      <th>0</th>\n",
       "      <td>0</td>\n",
       "      <td>0</td>\n",
       "      <td>0</td>\n",
       "      <td>0</td>\n",
       "      <td>0</td>\n",
       "      <td>1</td>\n",
       "      <td>0</td>\n",
       "      <td>0</td>\n",
       "      <td>0</td>\n",
       "      <td>0</td>\n",
       "      <td>...</td>\n",
       "      <td>0</td>\n",
       "      <td>0</td>\n",
       "      <td>0</td>\n",
       "      <td>0</td>\n",
       "      <td>-0.1</td>\n",
       "      <td>0.93200</td>\n",
       "      <td>-42.0</td>\n",
       "      <td>4.191</td>\n",
       "      <td>5195.8</td>\n",
       "      <td>0</td>\n",
       "    </tr>\n",
       "    <tr>\n",
       "      <th>1</th>\n",
       "      <td>0</td>\n",
       "      <td>0</td>\n",
       "      <td>1</td>\n",
       "      <td>0</td>\n",
       "      <td>0</td>\n",
       "      <td>0</td>\n",
       "      <td>0</td>\n",
       "      <td>0</td>\n",
       "      <td>0</td>\n",
       "      <td>0</td>\n",
       "      <td>...</td>\n",
       "      <td>0</td>\n",
       "      <td>0</td>\n",
       "      <td>0</td>\n",
       "      <td>0</td>\n",
       "      <td>1.1</td>\n",
       "      <td>0.93994</td>\n",
       "      <td>-36.4</td>\n",
       "      <td>4.857</td>\n",
       "      <td>5191.0</td>\n",
       "      <td>0</td>\n",
       "    </tr>\n",
       "    <tr>\n",
       "      <th>2</th>\n",
       "      <td>0</td>\n",
       "      <td>0</td>\n",
       "      <td>0</td>\n",
       "      <td>1</td>\n",
       "      <td>0</td>\n",
       "      <td>0</td>\n",
       "      <td>0</td>\n",
       "      <td>0</td>\n",
       "      <td>0</td>\n",
       "      <td>0</td>\n",
       "      <td>...</td>\n",
       "      <td>0</td>\n",
       "      <td>0</td>\n",
       "      <td>0</td>\n",
       "      <td>0</td>\n",
       "      <td>1.4</td>\n",
       "      <td>0.93918</td>\n",
       "      <td>-42.7</td>\n",
       "      <td>4.962</td>\n",
       "      <td>5228.1</td>\n",
       "      <td>0</td>\n",
       "    </tr>\n",
       "    <tr>\n",
       "      <th>3</th>\n",
       "      <td>0</td>\n",
       "      <td>0</td>\n",
       "      <td>0</td>\n",
       "      <td>1</td>\n",
       "      <td>0</td>\n",
       "      <td>0</td>\n",
       "      <td>0</td>\n",
       "      <td>0</td>\n",
       "      <td>0</td>\n",
       "      <td>0</td>\n",
       "      <td>...</td>\n",
       "      <td>0</td>\n",
       "      <td>0</td>\n",
       "      <td>0</td>\n",
       "      <td>0</td>\n",
       "      <td>1.4</td>\n",
       "      <td>0.93918</td>\n",
       "      <td>-42.7</td>\n",
       "      <td>4.958</td>\n",
       "      <td>5228.1</td>\n",
       "      <td>0</td>\n",
       "    </tr>\n",
       "    <tr>\n",
       "      <th>4</th>\n",
       "      <td>0</td>\n",
       "      <td>1</td>\n",
       "      <td>0</td>\n",
       "      <td>0</td>\n",
       "      <td>0</td>\n",
       "      <td>0</td>\n",
       "      <td>0</td>\n",
       "      <td>0</td>\n",
       "      <td>0</td>\n",
       "      <td>0</td>\n",
       "      <td>...</td>\n",
       "      <td>0</td>\n",
       "      <td>1</td>\n",
       "      <td>0</td>\n",
       "      <td>1</td>\n",
       "      <td>-0.1</td>\n",
       "      <td>0.93200</td>\n",
       "      <td>-42.0</td>\n",
       "      <td>4.076</td>\n",
       "      <td>5195.8</td>\n",
       "      <td>0</td>\n",
       "    </tr>\n",
       "  </tbody>\n",
       "</table>\n",
       "<p>5 rows × 45 columns</p>\n",
       "</div>"
      ],
      "text/plain": [
       "   pdays  job_admin.  job_blue-collar  job_entrepreneur  job_housemaid  \\\n",
       "0      0           0                0                 0              0   \n",
       "1      0           0                1                 0              0   \n",
       "2      0           0                0                 1              0   \n",
       "3      0           0                0                 1              0   \n",
       "4      0           1                0                 0              0   \n",
       "\n",
       "   job_management  job_retired  job_self-employed  job_services  job_student  \\\n",
       "0               1            0                  0             0            0   \n",
       "1               0            0                  0             0            0   \n",
       "2               0            0                  0             0            0   \n",
       "3               0            0                  0             0            0   \n",
       "4               0            0                  0             0            0   \n",
       "\n",
       "   ...  day_of_week_wed  poutcome_failure  poutcome_success  previous  \\\n",
       "0  ...                0                 0                 0         0   \n",
       "1  ...                0                 0                 0         0   \n",
       "2  ...                0                 0                 0         0   \n",
       "3  ...                0                 0                 0         0   \n",
       "4  ...                0                 1                 0         1   \n",
       "\n",
       "   emp_var_rate  cons_price_idx  cons_conf_idx  euribor3m  nr_employed  y  \n",
       "0          -0.1         0.93200          -42.0      4.191       5195.8  0  \n",
       "1           1.1         0.93994          -36.4      4.857       5191.0  0  \n",
       "2           1.4         0.93918          -42.7      4.962       5228.1  0  \n",
       "3           1.4         0.93918          -42.7      4.958       5228.1  0  \n",
       "4          -0.1         0.93200          -42.0      4.076       5195.8  0  \n",
       "\n",
       "[5 rows x 45 columns]"
      ]
     },
     "execution_count": 2,
     "metadata": {},
     "output_type": "execute_result"
    }
   ],
   "source": [
    "train = pd.read_csv('../data/notebook_produced_3/train.csv')\n",
    "\n",
    "train.head()"
   ]
  },
  {
   "cell_type": "markdown",
   "metadata": {},
   "source": [
    "# split data into train and val"
   ]
  },
  {
   "cell_type": "code",
   "execution_count": 3,
   "metadata": {},
   "outputs": [],
   "source": [
    "X = train.drop(columns='y')\n",
    "y = train.y\n",
    "\n",
    "(X_train, X_val,\n",
    " y_train, y_val) = train_test_split(\n",
    "                                X, y,\n",
    "                                test_size=0.33,\n",
    "                                stratify=y,\n",
    "                                random_state=seed\n",
    "                                )"
   ]
  },
  {
   "cell_type": "markdown",
   "metadata": {},
   "source": [
    "## train with gridsearch\n",
    "\n",
    "#### RandomForest"
   ]
  },
  {
   "cell_type": "code",
   "execution_count": 4,
   "metadata": {},
   "outputs": [
    {
     "data": {
      "text/html": [
       "<div>\n",
       "<style scoped>\n",
       "    .dataframe tbody tr th:only-of-type {\n",
       "        vertical-align: middle;\n",
       "    }\n",
       "\n",
       "    .dataframe tbody tr th {\n",
       "        vertical-align: top;\n",
       "    }\n",
       "\n",
       "    .dataframe thead th {\n",
       "        text-align: right;\n",
       "    }\n",
       "</style>\n",
       "<table border=\"1\" class=\"dataframe\">\n",
       "  <thead>\n",
       "    <tr style=\"text-align: right;\">\n",
       "      <th></th>\n",
       "      <th>test_score</th>\n",
       "      <th>train_score</th>\n",
       "      <th>params</th>\n",
       "      <th>diff</th>\n",
       "    </tr>\n",
       "  </thead>\n",
       "  <tbody>\n",
       "    <tr>\n",
       "      <th>0</th>\n",
       "      <td>0.945334</td>\n",
       "      <td>0.984511</td>\n",
       "      <td>gini, depth:20, trees: 50</td>\n",
       "      <td>0.039177</td>\n",
       "    </tr>\n",
       "  </tbody>\n",
       "</table>\n",
       "</div>"
      ],
      "text/plain": [
       "   test_score  train_score                     params      diff\n",
       "0    0.945334     0.984511  gini, depth:20, trees: 50  0.039177"
      ]
     },
     "execution_count": 4,
     "metadata": {},
     "output_type": "execute_result"
    }
   ],
   "source": [
    "def myGridSearchCv(model, params, X, y):\n",
    "    clf = GridSearchCV(\n",
    "                estimator=model,\n",
    "                param_grid=params,\n",
    "                scoring='roc_auc',\n",
    "                cv=5,\n",
    "                n_jobs=-1,\n",
    "                return_train_score=True)\n",
    "    clf.fit(X, y)\n",
    "    return clf\n",
    "\n",
    "rand_forest = RandomForestClassifier(random_state=seed)\n",
    "grid_params = {\n",
    "#     'n_estimators': [50, 100, 150, 200, 250],\n",
    "#     'criterion': ['gini'],\n",
    "#     'max_depth': [10, 20, 30, 40, 50]\n",
    "\n",
    "#     'n_estimators': [130],\n",
    "#     'criterion': ['gini'],\n",
    "#     'max_depth': [22]\n",
    "\n",
    "    'n_estimators': [50],\n",
    "    'criterion': ['gini'],\n",
    "    'max_depth': [20]\n",
    "}\n",
    "\n",
    "grid_rand_forest = myGridSearchCv(\n",
    "                        rand_forest,\n",
    "                        grid_params,\n",
    "                        X_train, y_train)\n",
    "\n",
    "test_scores = grid_rand_forest.cv_results_['mean_test_score']\n",
    "train_scores = grid_rand_forest.cv_results_['mean_train_score']\n",
    "params = grid_rand_forest.cv_results_['params']\n",
    "params = [f\"{d['criterion']}, depth:{d['max_depth']}, trees: {d['n_estimators']}\" for d in params]\n",
    "\n",
    "s = pd.DataFrame(np.vstack((test_scores, train_scores, params)).T, columns=['test_score', 'train_score', 'params'])\n",
    "s.test_score = s.test_score.astype(float)\n",
    "s.train_score = s.train_score.astype(float)\n",
    "s['diff'] = s.train_score - s.test_score\n",
    "s.head()"
   ]
  },
  {
   "cell_type": "code",
   "execution_count": 5,
   "metadata": {},
   "outputs": [
    {
     "name": "stdout",
     "output_type": "stream",
     "text": [
      " Train AUC: 0.9832300826522217\n",
      "   Val AUC: 0.9487504315294112\n",
      "Difference: 0.034479651122810484\n"
     ]
    }
   ],
   "source": [
    "rand_forest = RandomForestClassifier(n_estimators=50,\n",
    "                                     criterion='gini',\n",
    "                                     max_depth=20,\n",
    "                                     random_state=seed)\n",
    "rand_forest.fit(X_train, y_train)\n",
    "\n",
    "train_score = roc_auc_score(y_train, rand_forest.predict_proba(X_train)[:, 1])\n",
    "val_score = roc_auc_score(y_val, rand_forest.predict_proba(X_val)[:,1])\n",
    "\n",
    "print(' Train AUC:', train_score)\n",
    "print('   Val AUC:', val_score)\n",
    "print('Difference:', train_score - val_score)"
   ]
  },
  {
   "cell_type": "code",
   "execution_count": 6,
   "metadata": {},
   "outputs": [
    {
     "data": {
      "image/png": "[encoded data removed]",
      "text/plain": [
       "<Figure size 2160x144 with 1 Axes>"
      ]
     },
     "metadata": {
      "needs_background": "light"
     },
     "output_type": "display_data"
    }
   ],
   "source": [
    "f_imp = pd.DataFrame([X.columns, rand_forest.feature_importances_]).T\n",
    "f_imp.columns = ['col_name', 'score']\n",
    "f_imp = f_imp.sort_values('score', ascending=False)\n",
    "f_imp = f_imp.reset_index(drop=True)\n",
    "\n",
    "f, ax = plt.subplots(figsize=(30, 2))\n",
    "sns.barplot(data=f_imp, x='col_name', y='score', ax=ax)\n",
    "ax.tick_params(axis='x', labelrotation=75);"
   ]
  },
  {
   "cell_type": "markdown",
   "metadata": {},
   "source": [
    "### Whittle down the features to the ones that actually give good signal\n",
    "\n",
    "##### some lose in model performance should be expected on the training and validation sets, but hopefully this will make the predictions more predictable on the holdout set and realworld new data"
   ]
  },
  {
   "cell_type": "code",
   "execution_count": 8,
   "metadata": {},
   "outputs": [
    {
     "name": "stdout",
     "output_type": "stream",
     "text": [
      " Train AUC: 0.9832300826522217\n",
      "   Val AUC: 0.9487504315294112\n",
      "Difference: 0.034479651122810484\n"
     ]
    }
   ],
   "source": [
    "train_score = roc_auc_score(y_train, rand_forest.predict_proba(X_train)[:, 1])\n",
    "val_score = roc_auc_score(y_val, rand_forest.predict_proba(X_val)[:,1])\n",
    "\n",
    "print(' Train AUC:', train_score)\n",
    "print('   Val AUC:', val_score)\n",
    "print('Difference:', train_score - val_score)"
   ]
  },
  {
   "cell_type": "code",
   "execution_count": 105,
   "metadata": {
    "scrolled": true
   },
   "outputs": [
    {
     "name": "stdout",
     "output_type": "stream",
     "text": [
      "1\n",
      "2\n",
      "3\n",
      "4\n",
      "5\n",
      "6\n",
      "7\n",
      "8\n",
      "9\n",
      "10\n",
      "11\n",
      "12\n",
      "13\n",
      "14\n",
      "15\n",
      "16\n",
      "17\n",
      "18\n",
      "19\n",
      "20\n",
      "21\n",
      "22\n",
      "23\n",
      "24\n",
      "25\n",
      "26\n",
      "27\n",
      "28\n",
      "29\n",
      "30\n",
      "31\n",
      "32\n",
      "33\n",
      "34\n",
      "35\n",
      "36\n",
      "37\n",
      "38\n",
      "39\n",
      "40\n",
      "41\n",
      "42\n",
      "43\n"
     ]
    }
   ],
   "source": [
    "ordered_cals = f_imp.col_name.to_list()\n",
    "l = []\n",
    "for i in range(1, len(ordered_cals)):\n",
    "    current_cols = ordered_cals[:-i]\n",
    "\n",
    "\n",
    "    grid_params = {\n",
    "#         'n_estimators': [50],\n",
    "#         'criterion': ['gini'],\n",
    "#         'max_depth': [20]\n",
    "\n",
    "        'n_estimators': [20, 30, 40, 50, 60, 70, 80],\n",
    "        'criterion': ['gini'],\n",
    "        'max_depth': [10, 15, 20, 25, 30]\n",
    "    }\n",
    "    rand_forest = RandomForestClassifier(random_state=seed)\n",
    "    grid_rand_forest = myGridSearchCv(\n",
    "                            rand_forest,\n",
    "                            grid_params,\n",
    "                            X_train.loc[:, current_cols], y_train)\n",
    "\n",
    "    test_scores = grid_rand_forest.cv_results_['mean_test_score'].tolist()\n",
    "    train_scores = grid_rand_forest.cv_results_['mean_train_score'].tolist()\n",
    "    params = grid_rand_forest.cv_results_['params']\n",
    "    params = [f\"{d['criterion']}, depth:{d['max_depth']}, trees: {d['n_estimators']}\" for d in params]\n",
    "    col_count = [len(current_cols) for i in range(len(params))]\n",
    "    l += pd.DataFrame([col_count, train_scores, test_scores, params]).T.to_numpy().tolist()\n",
    "    print(i)"
   ]
  },
  {
   "cell_type": "code",
   "execution_count": 138,
   "metadata": {},
   "outputs": [
    {
     "data": {
      "text/html": [
       "<div>\n",
       "<style scoped>\n",
       "    .dataframe tbody tr th:only-of-type {\n",
       "        vertical-align: middle;\n",
       "    }\n",
       "\n",
       "    .dataframe tbody tr th {\n",
       "        vertical-align: top;\n",
       "    }\n",
       "\n",
       "    .dataframe thead th {\n",
       "        text-align: right;\n",
       "    }\n",
       "</style>\n",
       "<table border=\"1\" class=\"dataframe\">\n",
       "  <thead>\n",
       "    <tr style=\"text-align: right;\">\n",
       "      <th></th>\n",
       "      <th>col_count</th>\n",
       "      <th>train_scores</th>\n",
       "      <th>test_scores</th>\n",
       "      <th>params</th>\n",
       "      <th>diff</th>\n",
       "    </tr>\n",
       "  </thead>\n",
       "  <tbody>\n",
       "    <tr>\n",
       "      <th>0</th>\n",
       "      <td>43</td>\n",
       "      <td>0.888036</td>\n",
       "      <td>0.873938</td>\n",
       "      <td>gini, depth:10, trees: 20</td>\n",
       "      <td>0.014098</td>\n",
       "    </tr>\n",
       "    <tr>\n",
       "      <th>1</th>\n",
       "      <td>43</td>\n",
       "      <td>0.889234</td>\n",
       "      <td>0.874994</td>\n",
       "      <td>gini, depth:10, trees: 30</td>\n",
       "      <td>0.014240</td>\n",
       "    </tr>\n",
       "    <tr>\n",
       "      <th>2</th>\n",
       "      <td>43</td>\n",
       "      <td>0.888202</td>\n",
       "      <td>0.874090</td>\n",
       "      <td>gini, depth:10, trees: 40</td>\n",
       "      <td>0.014111</td>\n",
       "    </tr>\n",
       "    <tr>\n",
       "      <th>3</th>\n",
       "      <td>43</td>\n",
       "      <td>0.888663</td>\n",
       "      <td>0.874554</td>\n",
       "      <td>gini, depth:10, trees: 50</td>\n",
       "      <td>0.014109</td>\n",
       "    </tr>\n",
       "    <tr>\n",
       "      <th>4</th>\n",
       "      <td>43</td>\n",
       "      <td>0.888702</td>\n",
       "      <td>0.874574</td>\n",
       "      <td>gini, depth:10, trees: 60</td>\n",
       "      <td>0.014128</td>\n",
       "    </tr>\n",
       "    <tr>\n",
       "      <th>...</th>\n",
       "      <td>...</td>\n",
       "      <td>...</td>\n",
       "      <td>...</td>\n",
       "      <td>...</td>\n",
       "      <td>...</td>\n",
       "    </tr>\n",
       "    <tr>\n",
       "      <th>1500</th>\n",
       "      <td>1</td>\n",
       "      <td>0.906947</td>\n",
       "      <td>0.897021</td>\n",
       "      <td>gini, depth:30, trees: 40</td>\n",
       "      <td>0.009926</td>\n",
       "    </tr>\n",
       "    <tr>\n",
       "      <th>1501</th>\n",
       "      <td>1</td>\n",
       "      <td>0.906977</td>\n",
       "      <td>0.897046</td>\n",
       "      <td>gini, depth:30, trees: 50</td>\n",
       "      <td>0.009931</td>\n",
       "    </tr>\n",
       "    <tr>\n",
       "      <th>1502</th>\n",
       "      <td>1</td>\n",
       "      <td>0.906979</td>\n",
       "      <td>0.897026</td>\n",
       "      <td>gini, depth:30, trees: 60</td>\n",
       "      <td>0.009953</td>\n",
       "    </tr>\n",
       "    <tr>\n",
       "      <th>1503</th>\n",
       "      <td>1</td>\n",
       "      <td>0.906991</td>\n",
       "      <td>0.897056</td>\n",
       "      <td>gini, depth:30, trees: 70</td>\n",
       "      <td>0.009935</td>\n",
       "    </tr>\n",
       "    <tr>\n",
       "      <th>1504</th>\n",
       "      <td>1</td>\n",
       "      <td>0.906990</td>\n",
       "      <td>0.897097</td>\n",
       "      <td>gini, depth:30, trees: 80</td>\n",
       "      <td>0.009892</td>\n",
       "    </tr>\n",
       "  </tbody>\n",
       "</table>\n",
       "<p>1505 rows × 5 columns</p>\n",
       "</div>"
      ],
      "text/plain": [
       "      col_count  train_scores  test_scores                     params  \\\n",
       "0            43      0.888036     0.873938  gini, depth:10, trees: 20   \n",
       "1            43      0.889234     0.874994  gini, depth:10, trees: 30   \n",
       "2            43      0.888202     0.874090  gini, depth:10, trees: 40   \n",
       "3            43      0.888663     0.874554  gini, depth:10, trees: 50   \n",
       "4            43      0.888702     0.874574  gini, depth:10, trees: 60   \n",
       "...         ...           ...          ...                        ...   \n",
       "1500          1      0.906947     0.897021  gini, depth:30, trees: 40   \n",
       "1501          1      0.906977     0.897046  gini, depth:30, trees: 50   \n",
       "1502          1      0.906979     0.897026  gini, depth:30, trees: 60   \n",
       "1503          1      0.906991     0.897056  gini, depth:30, trees: 70   \n",
       "1504          1      0.906990     0.897097  gini, depth:30, trees: 80   \n",
       "\n",
       "          diff  \n",
       "0     0.014098  \n",
       "1     0.014240  \n",
       "2     0.014111  \n",
       "3     0.014109  \n",
       "4     0.014128  \n",
       "...        ...  \n",
       "1500  0.009926  \n",
       "1501  0.009931  \n",
       "1502  0.009953  \n",
       "1503  0.009935  \n",
       "1504  0.009892  \n",
       "\n",
       "[1505 rows x 5 columns]"
      ]
     },
     "execution_count": 138,
     "metadata": {},
     "output_type": "execute_result"
    }
   ],
   "source": [
    "lots_of_scores = pd.DataFrame(l, columns=['col_count', 'train_scores', 'test_scores', 'params'])\n",
    "lots_of_scores['diff'] = lots_of_scores.train_scores - lots_of_scores.test_scores\n",
    "lots_of_scores"
   ]
  },
  {
   "cell_type": "code",
   "execution_count": 130,
   "metadata": {},
   "outputs": [],
   "source": [
    "# f, (a1, a2, a3) = plt.subplots(nrows=3, figsize=(30, 10))\n",
    "# sns.scatterplot(data=lots_of_scores, x='params', y='train_scores', hue='col_count', ax=a1)\n",
    "# sns.scatterplot(data=lots_of_scores, x='params', y='test_scores', hue='col_count', ax=a2)\n",
    "\n",
    "# sns.scatterplot(data=lots_of_scores, x='params', y='diff', hue='col_count', ax=a3)\n",
    "# a3.tick_params(axis='x', labelrotation=90);"
   ]
  },
  {
   "cell_type": "code",
   "execution_count": 139,
   "metadata": {},
   "outputs": [
    {
     "data": {
      "image/png": "[encoded data removed]",
      "text/plain": [
       "<Figure size 2160x360 with 2 Axes>"
      ]
     },
     "metadata": {
      "needs_background": "light"
     },
     "output_type": "display_data"
    }
   ],
   "source": [
    "a = lots_of_scores.loc[lots_of_scores.params=='gini, depth:20, trees: 20', :]\n",
    "\n",
    "f, (a1, a2) = plt.subplots(nrows=2, figsize=(30, 5))\n",
    "sns.scatterplot(data=a, x='col_count', y='train_scores', ax=a1)\n",
    "sns.scatterplot(data=a, x='col_count', y='test_scores', ax=a1)\n",
    "sns.scatterplot(data=a, x='col_count', y='diff', ax=a2);"
   ]
  },
  {
   "cell_type": "code",
   "execution_count": 150,
   "metadata": {},
   "outputs": [
    {
     "name": "stdout",
     "output_type": "stream",
     "text": [
      " Train AUC: 0.9830215611902965\n",
      "   Val AUC: 0.9447661291907556\n",
      "Difference: 0.038255431999540845\n"
     ]
    }
   ],
   "source": [
    "# 23\n",
    "best_cols = ordered_cals[:-21]\n",
    "\n",
    "X_train = X_train.loc[:, best_cols]\n",
    "X_val = X_val.loc[:, best_cols]\n",
    "\n",
    "rand_forest = RandomForestClassifier(n_estimators=20,\n",
    "                                     criterion='gini',\n",
    "                                     max_depth=20,\n",
    "                                     random_state=seed)\n",
    "rand_forest.fit(X_train, y_train)\n",
    "\n",
    "train_score = roc_auc_score(y_train, rand_forest.predict_proba(X_train)[:, 1])\n",
    "val_score = roc_auc_score(y_val, rand_forest.predict_proba(X_val)[:,1])\n",
    "\n",
    "print(' Train AUC:', train_score)\n",
    "print('   Val AUC:', val_score)\n",
    "print('Difference:', train_score - val_score)"
   ]
  },
  {
   "cell_type": "code",
   "execution_count": 151,
   "metadata": {},
   "outputs": [
    {
     "name": "stdout",
     "output_type": "stream",
     "text": [
      "Validation Classification Report\n",
      "\n",
      "              precision    recall  f1-score   support\n",
      "\n",
      "           0       0.87      0.88      0.87      8443\n",
      "           1       0.88      0.87      0.87      8443\n",
      "\n",
      "    accuracy                           0.87     16886\n",
      "   macro avg       0.87      0.87      0.87     16886\n",
      "weighted avg       0.87      0.87      0.87     16886\n",
      "\n"
     ]
    }
   ],
   "source": [
    "print('Validation Classification Report\\n')\n",
    "print(classification_report(y_val, rand_forest.predict(X_val)))"
   ]
  },
  {
   "cell_type": "code",
   "execution_count": 195,
   "metadata": {},
   "outputs": [
    {
     "data": {
      "image/png": "[encoded data removed]",
      "text/plain": [
       "<Figure size 1440x288 with 5 Axes>"
      ]
     },
     "metadata": {
      "needs_background": "light"
     },
     "output_type": "display_data"
    }
   ],
   "source": [
    "f, (ax1, ax2, ax3) = plt.subplots(ncols=3, figsize=(20,4))\n",
    "plot_confusion_matrix(rand_forest,\n",
    "                      X_train, y_train,\n",
    "                      display_labels=['no', 'yes'],\n",
    "                      cmap=plt.cm.Blues,\n",
    "                      normalize='true',\n",
    "                      ax=ax1\n",
    "                     )\n",
    "plot_confusion_matrix(rand_forest,\n",
    "                      X_val, y_val,\n",
    "                      display_labels=['no', 'yes'],\n",
    "                      cmap=plt.cm.Blues,\n",
    "                      normalize='true',\n",
    "                      ax=ax2\n",
    "                     )\n",
    "plot_roc_curve(rand_forest,\n",
    "               X_train, y_train, ax=ax3)\n",
    "plot_roc_curve(rand_forest,\n",
    "               X_val, y_val, ax=ax3);"
   ]
  },
  {
   "cell_type": "code",
   "execution_count": 197,
   "metadata": {},
   "outputs": [
    {
     "data": {
      "text/plain": [
       "['../saved_models/rand_forest_trees_20_depth_20.joblib']"
      ]
     },
     "execution_count": 197,
     "metadata": {},
     "output_type": "execute_result"
    }
   ],
   "source": [
    "# joblib.dump(rand_forest, '../saved_models/rand_forest_trees_20_depth_20.joblib')"
   ]
  },
  {
   "cell_type": "code",
   "execution_count": 215,
   "metadata": {},
   "outputs": [],
   "source": [
    "def tp_tn_fn_fp(true_value, predicted_value):\n",
    "    tp, tn, fn, fp = 0, 0, 0, 0\n",
    "    for v, p in zip(true_value, predicted_value):\n",
    "        if v == p:\n",
    "            if v+p == 2: tp += 1\n",
    "            else: tn += 1\n",
    "        elif v == 1: fn += 1\n",
    "        else: fp += 1\n",
    "    return tp, tn, fn, fp\n",
    "\n",
    "def lift_score(true_value, predicted_value):\n",
    "    tp, tn, fn, fp = tp_tn_fn_fp(true_value, predicted_value)\n",
    "    return ( tp/(tp+fp) ) / ( (tp+fn) / (tp+tn+fp+fn) )"
   ]
  },
  {
   "cell_type": "code",
   "execution_count": 200,
   "metadata": {},
   "outputs": [
    {
     "data": {
      "text/plain": [
       "(34282, 24)"
      ]
     },
     "execution_count": 200,
     "metadata": {},
     "output_type": "execute_result"
    }
   ],
   "source": [
    "X_train['y'] = y_train\n",
    "X_val['y'] = y_val"
   ]
  },
  {
   "cell_type": "code",
   "execution_count": 207,
   "metadata": {},
   "outputs": [
    {
     "data": {
      "text/plain": [
       "(51168, 24)"
      ]
     },
     "execution_count": 207,
     "metadata": {},
     "output_type": "execute_result"
    }
   ],
   "source": [
    "df_train = pd.concat([X_train, X_val], axis=0).reset_index(drop=True)\n",
    "df_train.shape"
   ]
  },
  {
   "cell_type": "markdown",
   "metadata": {},
   "source": [
    "### subset the holdout set...again"
   ]
  },
  {
   "cell_type": "code",
   "execution_count": 213,
   "metadata": {},
   "outputs": [
    {
     "data": {
      "text/plain": [
       "(12356, 24)"
      ]
     },
     "execution_count": 213,
     "metadata": {},
     "output_type": "execute_result"
    }
   ],
   "source": [
    "test = pd.read_csv('../data/notebook_produced_3/test.csv')\n",
    "test = test.loc[:, df_train.columns]\n",
    "test.shape"
   ]
  },
  {
   "cell_type": "code",
   "execution_count": 209,
   "metadata": {},
   "outputs": [],
   "source": [
    "# df_train.to_csv('../data/notebook_produced_4/train.csv', index=False)\n",
    "# test.to_csv('../data/notebook_produced_4/test.csv', index=False)"
   ]
  },
  {
   "cell_type": "code",
   "execution_count": null,
   "metadata": {},
   "outputs": [],
   "source": []
  },
  {
   "cell_type": "code",
   "execution_count": null,
   "metadata": {},
   "outputs": [],
   "source": []
  },
  {
   "cell_type": "code",
   "execution_count": null,
   "metadata": {},
   "outputs": [],
   "source": []
  },
  {
   "cell_type": "code",
   "execution_count": null,
   "metadata": {},
   "outputs": [],
   "source": []
  },
  {
   "cell_type": "code",
   "execution_count": null,
   "metadata": {},
   "outputs": [],
   "source": []
  },
  {
   "cell_type": "code",
   "execution_count": null,
   "metadata": {},
   "outputs": [],
   "source": []
  },
  {
   "cell_type": "code",
   "execution_count": null,
   "metadata": {},
   "outputs": [],
   "source": []
  },
  {
   "cell_type": "code",
   "execution_count": null,
   "metadata": {},
   "outputs": [],
   "source": []
  },
  {
   "cell_type": "code",
   "execution_count": null,
   "metadata": {},
   "outputs": [],
   "source": []
  },
  {
   "cell_type": "code",
   "execution_count": null,
   "metadata": {},
   "outputs": [],
   "source": []
  },
  {
   "cell_type": "code",
   "execution_count": null,
   "metadata": {},
   "outputs": [],
   "source": []
  },
  {
   "cell_type": "code",
   "execution_count": null,
   "metadata": {},
   "outputs": [],
   "source": []
  },
  {
   "cell_type": "code",
   "execution_count": null,
   "metadata": {},
   "outputs": [],
   "source": [
    "fpr_train, tpr_train, _ = roc_curve(y_train, grid_rand_forest.predict_proba(X_train)[:,1])\n",
    "fpr_val, tpr_val, _ = roc_curve(y_val, grid_rand_forest.predict_proba(X_val)[:,1])\n",
    "\n",
    "f, ax = plt.subplots(figsize=(8, 7))\n",
    "sns.scatterplot(x=fpr_train, y=tpr_train, ax=ax)\n",
    "sns.scatterplot(x=fpr_val, y=tpr_val, ax=ax)\n",
    "ax.set_xlabel('False Positive Rate')\n",
    "ax.set_ylabel('True Positive Rate');"
   ]
  },
  {
   "cell_type": "code",
   "execution_count": null,
   "metadata": {},
   "outputs": [],
   "source": [
    "rand_forest = RandomForestClassifier(n_estimators=130, criterion='gini', max_depth=22, random_state=seed)\n",
    "rand_forest.fit(X_train, y_train)"
   ]
  },
  {
   "cell_type": "code",
   "execution_count": null,
   "metadata": {},
   "outputs": [],
   "source": [
    "print('Train AUC:', roc_auc_score(y_train, rand_forest.predict_proba(X_train)[:, 1]))\n",
    "print('  Val AUC:', roc_auc_score(y_val, rand_forest.predict_proba(X_val)[:,1]))"
   ]
  },
  {
   "cell_type": "code",
   "execution_count": null,
   "metadata": {},
   "outputs": [],
   "source": [
    "f_imp = pd.DataFrame([X.columns, rand_forest.feature_importances_]).T\n",
    "f_imp.columns = ['col_name', 'score']\n",
    "f_imp = f_imp.sort_values('score', ascending=False)\n",
    "f_imp = f_imp.reset_index(drop=True)\n",
    "f_imp.head()"
   ]
  },
  {
   "cell_type": "code",
   "execution_count": null,
   "metadata": {},
   "outputs": [],
   "source": [
    "f_imp"
   ]
  },
  {
   "cell_type": "code",
   "execution_count": null,
   "metadata": {},
   "outputs": [],
   "source": [
    "f, ax = plt.subplots(figsize=(30, 3))\n",
    "sns.barplot(data=f_imp, x='col_name', y='score', ax=ax)\n",
    "ax.tick_params(axis='x', labelrotation=75);"
   ]
  },
  {
   "cell_type": "code",
   "execution_count": null,
   "metadata": {},
   "outputs": [],
   "source": [
    "top_cols = list(f_imp.iloc[:10, 0].values)\n",
    "top_cols += ['poutcome_failure', 'poutcome_success']\n",
    "top_cols"
   ]
  },
  {
   "cell_type": "code",
   "execution_count": null,
   "metadata": {},
   "outputs": [],
   "source": [
    "X_train_subset = X_train.loc[:, top_cols]\n",
    "X_val_subset = X_val.loc[:, top_cols]"
   ]
  },
  {
   "cell_type": "code",
   "execution_count": null,
   "metadata": {},
   "outputs": [],
   "source": [
    "X_val_subset.head()"
   ]
  },
  {
   "cell_type": "code",
   "execution_count": null,
   "metadata": {},
   "outputs": [],
   "source": [
    "rand_forest = RandomForestClassifier(n_estimators=130, criterion='gini', max_depth=22, random_state=seed)\n",
    "rand_forest.fit(X_train_subset, y_train)"
   ]
  },
  {
   "cell_type": "code",
   "execution_count": null,
   "metadata": {},
   "outputs": [],
   "source": [
    "print('Train AUC:', roc_auc_score(y_train, rand_forest.predict_proba(X_train_subset)[:, 1]))\n",
    "print('  Val AUC:', roc_auc_score(y_val, rand_forest.predict_proba(X_val_subset)[:,1]))"
   ]
  },
  {
   "cell_type": "code",
   "execution_count": null,
   "metadata": {},
   "outputs": [],
   "source": [
    "X_val.head()"
   ]
  },
  {
   "cell_type": "code",
   "execution_count": null,
   "metadata": {},
   "outputs": [],
   "source": [
    "test = pd.read_csv('../data/notebook_produced_3/test.csv')\n",
    "X_hold = test.drop(columns='y')\n",
    "y_hold = test.y\n",
    "\n",
    "# X_hold_subset = X_hold.loc[:, top_cols]\n",
    "# X_hold = X_hold.loc[:, ['euribor3m']]\n",
    "X_hold = X_hold.loc[:, ['poutcome_success', 'poutcome_failure']]\n",
    "X_hold.shape"
   ]
  },
  {
   "cell_type": "code",
   "execution_count": null,
   "metadata": {},
   "outputs": [],
   "source": [
    "print('  Val AUC:', roc_auc_score(y_hold, grid_rand_forest.predict_proba(X_hold)[:,1]))"
   ]
  },
  {
   "cell_type": "code",
   "execution_count": null,
   "metadata": {},
   "outputs": [],
   "source": [
    "plot_confusion_matrix(grid_rand_forest,\n",
    "                      X_hold, y_hold,\n",
    "                      display_labels=['no', 'yes'],\n",
    "                      cmap=plt.cm.Blues,\n",
    "                      normalize='true'\n",
    "                     );"
   ]
  },
  {
   "cell_type": "code",
   "execution_count": null,
   "metadata": {},
   "outputs": [],
   "source": [
    "# print('  Val AUC:', roc_auc_score(y_hold, rand_forest.predict_proba(X_hold_subset)[:,1]))\n",
    "\n",
    "print('  Val AUC:', roc_auc_score(y_hold, rand_forest.predict_proba(X_hold)[:,1]))"
   ]
  },
  {
   "cell_type": "code",
   "execution_count": null,
   "metadata": {},
   "outputs": [],
   "source": [
    "# f, (ax1, ax2) = plt.subplots(ncols=2, figsize=(15,5))\n",
    "# plot_confusion_matrix(rand_forest,\n",
    "#                       X_val_subset, y_val,\n",
    "#                       display_labels=['no', 'yes'],\n",
    "#                       cmap=plt.cm.Blues,\n",
    "#                       normalize='true',\n",
    "#                       ax=ax1\n",
    "#                      )\n",
    "# plot_confusion_matrix(rand_forest,\n",
    "#                       X_hold_subset, y_hold,\n",
    "#                       display_labels=['no', 'yes'],\n",
    "#                       cmap=plt.cm.Blues,\n",
    "#                       normalize='true',\n",
    "#                       ax=ax2\n",
    "#                      );\n",
    "\n",
    "f, (ax1, ax2) = plt.subplots(ncols=2, figsize=(15,5))\n",
    "plot_confusion_matrix(rand_forest,\n",
    "                      X_val, y_val,\n",
    "                      display_labels=['no', 'yes'],\n",
    "                      cmap=plt.cm.Blues,\n",
    "                      normalize='true',\n",
    "                      ax=ax1\n",
    "                     )\n",
    "plot_confusion_matrix(rand_forest,\n",
    "                      X_hold, y_hold,\n",
    "                      display_labels=['no', 'yes'],\n",
    "                      cmap=plt.cm.Blues,\n",
    "                      normalize='true',\n",
    "                      ax=ax2\n",
    "                     );\n"
   ]
  },
  {
   "cell_type": "code",
   "execution_count": null,
   "metadata": {},
   "outputs": [],
   "source": []
  },
  {
   "cell_type": "code",
   "execution_count": null,
   "metadata": {},
   "outputs": [],
   "source": []
  },
  {
   "cell_type": "code",
   "execution_count": null,
   "metadata": {},
   "outputs": [],
   "source": []
  },
  {
   "cell_type": "code",
   "execution_count": null,
   "metadata": {},
   "outputs": [],
   "source": []
  },
  {
   "cell_type": "markdown",
   "metadata": {},
   "source": [
    "#### AdaBoost"
   ]
  },
  {
   "cell_type": "code",
   "execution_count": null,
   "metadata": {},
   "outputs": [],
   "source": [
    "def myGridSearchCv(model, params, X, y):\n",
    "    clf = GridSearchCV(\n",
    "                estimator=model,\n",
    "                param_grid=params,\n",
    "                scoring='roc_auc',\n",
    "                cv=5,\n",
    "                n_jobs=-1,\n",
    "                return_train_score=True)\n",
    "    clf.fit(X, y)\n",
    "    return clf\n",
    "\n",
    "adaBoost = AdaBoostClassifier(random_state=seed)\n",
    "\n",
    "grid_params = {\n",
    "#         'n_estimators': [200, 250, 275, 300],\n",
    "#         'learning_rate': [1.6, 1.7, 1.8]\n",
    "        'n_estimators': [300],\n",
    "        'learning_rate': [1.8]\n",
    "}\n",
    "\n",
    "grid_adaBoost = myGridSearchCv(\n",
    "                        adaBoost,\n",
    "                        grid_params,\n",
    "                        X_train, y_train)\n",
    "\n",
    "test_scores = grid_adaBoost.cv_results_['mean_test_score']\n",
    "train_scores = grid_adaBoost.cv_results_['mean_train_score']\n",
    "params = grid_adaBoost.cv_results_['params']\n",
    "params = [f\"l_rate:{d['learning_rate']}, trees:{d['n_estimators']}\" for d in params]\n",
    "\n",
    "s = pd.DataFrame(np.vstack((test_scores, train_scores, params)).T, columns=['test_score', 'train_score', 'params'])\n",
    "s.test_score = s.test_score.astype(float)\n",
    "s.train_score = s.train_score.astype(float)\n",
    "s['diff'] = s.train_score - s.test_score\n",
    "s.head()"
   ]
  },
  {
   "cell_type": "code",
   "execution_count": null,
   "metadata": {},
   "outputs": [],
   "source": [
    "print('Train AUC:', roc_auc_score(y_train, grid_adaBoost.predict_proba(X_train)[:, 1]))\n",
    "print('  Val AUC:', roc_auc_score(y_val, grid_adaBoost.predict_proba(X_val)[:,1]))"
   ]
  },
  {
   "cell_type": "code",
   "execution_count": null,
   "metadata": {},
   "outputs": [],
   "source": [
    "f, (ax1, ax2) = plt.subplots(ncols=2, figsize=(15,5))\n",
    "plot_confusion_matrix(grid_adaBoost,\n",
    "                      X_train, y_train,\n",
    "                      display_labels=['no', 'yes'],\n",
    "                      cmap=plt.cm.Blues,\n",
    "                      normalize='true',\n",
    "                      ax=ax1\n",
    "                     )\n",
    "plot_confusion_matrix(grid_adaBoost,\n",
    "                      X_val, y_val,\n",
    "                      display_labels=['no', 'yes'],\n",
    "                      cmap=plt.cm.Blues,\n",
    "                      normalize='true',\n",
    "                      ax=ax2\n",
    "                     );"
   ]
  },
  {
   "cell_type": "code",
   "execution_count": null,
   "metadata": {},
   "outputs": [],
   "source": [
    "fpr_train, tpr_train, _ = roc_curve(y_train, grid_adaBoost.predict_proba(X_train)[:,1])\n",
    "fpr_val, tpr_val, _ = roc_curve(y_val, grid_adaBoost.predict_proba(X_val)[:,1])\n",
    "\n",
    "f, ax = plt.subplots(figsize=(8, 7))\n",
    "sns.scatterplot(x=fpr_train, y=tpr_train, ax=ax)\n",
    "sns.scatterplot(x=fpr_val, y=tpr_val, ax=ax)\n",
    "ax.set_xlabel('False Positive Rate')\n",
    "ax.set_ylabel('True Positive Rate');"
   ]
  },
  {
   "cell_type": "code",
   "execution_count": null,
   "metadata": {},
   "outputs": [],
   "source": [
    "# f, (a1, a2) = plt.subplots(nrows=2, figsize=(30, 8))\n",
    "# sns.scatterplot(data=s, x='params', y='test_score', ax=a1)\n",
    "# sns.scatterplot(data=s, x='params', y='train_score', ax=a1)\n",
    "\n",
    "# sns.scatterplot(data=s, x='params', y='diff', ax=a2)\n",
    "# a2.tick_params(axis='x', labelrotation=45);"
   ]
  },
  {
   "cell_type": "code",
   "execution_count": null,
   "metadata": {},
   "outputs": [],
   "source": []
  },
  {
   "cell_type": "code",
   "execution_count": null,
   "metadata": {},
   "outputs": [],
   "source": []
  },
  {
   "cell_type": "code",
   "execution_count": null,
   "metadata": {},
   "outputs": [],
   "source": []
  },
  {
   "cell_type": "code",
   "execution_count": null,
   "metadata": {},
   "outputs": [],
   "source": []
  },
  {
   "cell_type": "code",
   "execution_count": null,
   "metadata": {},
   "outputs": [],
   "source": []
  },
  {
   "cell_type": "code",
   "execution_count": null,
   "metadata": {},
   "outputs": [],
   "source": []
  },
  {
   "cell_type": "code",
   "execution_count": null,
   "metadata": {},
   "outputs": [],
   "source": []
  },
  {
   "cell_type": "code",
   "execution_count": null,
   "metadata": {},
   "outputs": [],
   "source": [
    "# joblib.dump(model, '../saved_models/final_adaboost_poutcome_success.joblib')"
   ]
  },
  {
   "cell_type": "code",
   "execution_count": null,
   "metadata": {},
   "outputs": [],
   "source": [
    "# joblib.dump(model, '../saved_models/final_adaboost_poutcome_other.joblib')"
   ]
  },
  {
   "cell_type": "code",
   "execution_count": null,
   "metadata": {},
   "outputs": [],
   "source": [
    "test = pd.read_csv('../data/notebook_produced_3/test.csv')\n",
    "\n",
    "success_df = test.loc[test.poutcome_success==1, :]\n",
    "success_df = success_df.drop(columns=['poutcome_failure', 'poutcome_success', 'pdays'])\n",
    "\n",
    "other_df = test.loc[test.poutcome_success==0, :]\n",
    "other_df = other_df.drop(columns=['poutcome_success'])\n",
    "\n",
    "\n",
    "X_other = other_df.drop(columns='y')\n",
    "y_other = other_df.y\n",
    "\n",
    "X_success = success_df.drop(columns='y')\n",
    "y_success = success_df.y\n",
    "\n",
    "X_other.shape, y_other.shape, X_success.shape, y_success.shape"
   ]
  },
  {
   "cell_type": "code",
   "execution_count": null,
   "metadata": {},
   "outputs": [],
   "source": [
    "model_success = joblib.load('../saved_models/final_adaboost_poutcome_success.joblib')\n",
    "model_other = joblib.load('../saved_models/final_adaboost_poutcome_other.joblib')"
   ]
  },
  {
   "cell_type": "code",
   "execution_count": null,
   "metadata": {},
   "outputs": [],
   "source": [
    "f, ax = plt.subplots(figsize=(30, 4))\n",
    "sns.barplot(x=X_success.columns, y=model_success.feature_importances_, ax=ax)\n",
    "ax.tick_params(axis='x', labelrotation=45);"
   ]
  },
  {
   "cell_type": "code",
   "execution_count": null,
   "metadata": {},
   "outputs": [],
   "source": [
    "f, ax = plt.subplots(figsize=(30, 4))\n",
    "sns.barplot(x=X_other.columns, y=model_other.feature_importances_, ax=ax)\n",
    "ax.tick_params(axis='x', labelrotation=45);"
   ]
  },
  {
   "cell_type": "code",
   "execution_count": null,
   "metadata": {},
   "outputs": [],
   "source": []
  },
  {
   "cell_type": "code",
   "execution_count": null,
   "metadata": {},
   "outputs": [],
   "source": [
    "print(roc_auc_score(y_other, model_other.predict(X_other)))\n",
    "\n",
    "print(classification_report(y_other, model_other.predict(X_other)))\n",
    "\n",
    "plot_confusion_matrix(model_other, X_other, y_other,\n",
    "                      display_labels=['no', 'yes'],\n",
    "                      cmap=plt.cm.Blues,\n",
    "                      normalize='true'\n",
    "                     );"
   ]
  },
  {
   "cell_type": "code",
   "execution_count": null,
   "metadata": {},
   "outputs": [],
   "source": [
    "print(roc_auc_score(y_success, model_success.predict(X_success)))\n",
    "\n",
    "print(classification_report(y_success, model_success.predict(X_success)))\n",
    "\n",
    "plot_confusion_matrix(model_success, X_success, y_success,\n",
    "                      display_labels=['no', 'yes'],\n",
    "                      cmap=plt.cm.Blues,\n",
    "                      normalize='true'\n",
    "                     );"
   ]
  },
  {
   "cell_type": "code",
   "execution_count": null,
   "metadata": {},
   "outputs": [],
   "source": [
    "def tp_tn_fn_fp(true_value, predicted_value):\n",
    "    tp, tn, fn, fp = 0, 0, 0, 0\n",
    "    for v, p in zip(true_value, predicted_value):\n",
    "        if v == p:\n",
    "            if v+p == 2: tp += 1\n",
    "            else: tn += 1\n",
    "        elif v == 1: fn += 1\n",
    "        else: fp += 1\n",
    "    return tp, tn, fn, fp\n",
    "\n",
    "def lift_score(true_value, predicted_value):\n",
    "    tp, tn, fn, fp = tp_tn_fn_fp(true_value, predicted_value)\n",
    "    return ( tp/(tp+fp) ) / ( (tp+fn) / (tp+tn+fp+fn) )"
   ]
  },
  {
   "cell_type": "code",
   "execution_count": null,
   "metadata": {},
   "outputs": [],
   "source": [
    "yy = pd.concat([y_other, y_success], ignore_index=False)\n",
    "yy_predict = np.hstack((model_other.predict(X_other), model_success.predict(X_success)))\n",
    "yy_proba = np.hstack((model_other.predict_proba(X_other)[:,1], model_success.predict_proba(X_success)[:,1]))"
   ]
  },
  {
   "cell_type": "code",
   "execution_count": null,
   "metadata": {},
   "outputs": [],
   "source": [
    "lift_score(yy, yy_predict)"
   ]
  },
  {
   "cell_type": "code",
   "execution_count": null,
   "metadata": {},
   "outputs": [],
   "source": [
    "res = pd.DataFrame(np.column_stack((yy, yy_proba, yy_predict)),\n",
    "                   columns=['target', 'probability', 'prediction'])\n",
    "res"
   ]
  },
  {
   "cell_type": "code",
   "execution_count": null,
   "metadata": {},
   "outputs": [],
   "source": [
    "population = res.target.value_counts()\n",
    "population_ratio = population.loc[1.0]/population.sum()\n",
    "\n",
    "l = []\n",
    "for i in np.arange(0, 1, .1):\n",
    "    d = res.loc[res.probability >= i,:]\n",
    "#     count = d.shape[0]\n",
    "    sample = d.target.value_counts()\n",
    "    sample_ratio = sample.loc[1.0]/sample.sum()\n",
    "#     l.append([round(i, ndigits=1), sample_ratio/population_ratio, count])\n",
    "    l.append([round(i, ndigits=1), sample_ratio/population_ratio, f'Yes: {sample.loc[1.0]}, No: {sample.loc[0.0]}'])\n",
    "above_prob = pd.DataFrame(l, columns=['above_probability', 'lift', 'count'])\n",
    "\n",
    "above_prob"
   ]
  },
  {
   "cell_type": "code",
   "execution_count": null,
   "metadata": {},
   "outputs": [],
   "source": [
    "f, ax = plt.subplots(figsize=(20,4))\n",
    "sns.barplot(data=above_prob, x='above_probability', y='lift', ax=ax)\n",
    "\n",
    "for row in above_prob.itertuples():\n",
    "    ax.text(row.Index, row.lift, row.count, color='black', ha=\"center\")\n",
    "\n",
    "ax.hlines(1, -1,10);"
   ]
  },
  {
   "cell_type": "code",
   "execution_count": null,
   "metadata": {},
   "outputs": [],
   "source": []
  },
  {
   "cell_type": "code",
   "execution_count": null,
   "metadata": {},
   "outputs": [],
   "source": []
  },
  {
   "cell_type": "code",
   "execution_count": null,
   "metadata": {},
   "outputs": [],
   "source": []
  },
  {
   "cell_type": "code",
   "execution_count": null,
   "metadata": {},
   "outputs": [],
   "source": []
  }
 ],
 "metadata": {
  "kernelspec": {
   "display_name": "Python 3",
   "language": "python",
   "name": "python3"
  },
  "language_info": {
   "codemirror_mode": {
    "name": "ipython",
    "version": 3
   },
   "file_extension": ".py",
   "mimetype": "text/x-python",
   "name": "python",
   "nbconvert_exporter": "python",
   "pygments_lexer": "ipython3",
   "version": "3.7.3"
  }
 },
 "nbformat": 4,
 "nbformat_minor": 4
}
