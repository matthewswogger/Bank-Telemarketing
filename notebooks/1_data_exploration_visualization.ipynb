{
 "cells": [
  {
   "cell_type": "code",
   "execution_count": null,
   "metadata": {},
   "outputs": [],
   "source": [
    "import pandas as pd\n",
    "import numpy as np\n",
    "import ppscore as pps\n",
    "import matplotlib.pyplot as plt\n",
    "import seaborn as sns\n",
    "%matplotlib inline"
   ]
  },
  {
   "cell_type": "markdown",
   "metadata": {},
   "source": [
    "https://core.ac.uk/download/pdf/55631291.pdf\n",
    "\n",
    "https://archive.ics.uci.edu/ml/datasets/Bank+Marketing\n",
    "\n",
    "The data is related with direct marketing campaigns of a Portuguese banking institution. The marketing campaigns were based on phone calls. Often, more than one contact to the same client was required, in order to assess if the product (bank term deposit) would be ('yes') or not ('no') subscribed.\n",
    "\n",
    "1) bank-additional-full.csv with all examples (41188) and 20 inputs, ordered by date (from May 2008 to November 2010), very close to the data analyzed in [Moro et al., 2014]\n",
    "\n",
    "# Input variables:\n",
    "### bank client data:\n",
    "1 - **age** (**numeric**)<br>\n",
    "2 - **job** : type of job (**categorical**: 'admin.','blue-collar','entrepreneur','housemaid','management','retired','self-employed','services','student','technician','unemployed','unknown')<br>\n",
    "3 - **marital** : marital status (**categorical**: 'divorced','married','single','unknown'; note: 'divorced' means divorced or widowed)<br>\n",
    "4 - **education** (**categorical**: 'basic.4y','basic.6y','basic.9y','high.school','illiterate','professional.course','university.degree','unknown')<br>\n",
    "5 - **default**: has credit in default? (**categorical**: 'no','yes','unknown')<br>\n",
    "6 - **housing**: has housing loan? (**categorical**: 'no','yes','unknown')<br>\n",
    "7 - **loan**: has personal loan? (**categorical**: 'no','yes','unknown')<br>\n",
    "### related with the last contact of the current campaign:\n",
    "8 - **contact**: contact communication type (**categorical**: 'cellular','telephone')<br>\n",
    "9 - **month**: last contact month of year (**categorical**: 'jan', 'feb', 'mar', ..., 'nov', 'dec')<br>\n",
    "10 - **day_of_week**: last contact day of the week (**categorical**: 'mon','tue','wed','thu','fri')<br>\n",
    "11 - **duration**: last contact duration, in seconds (**numeric**). **DATA LEAKAGE** Important note: this attribute highly affects the output target (e.g., if duration=0 then y='no'). Yet, the duration is not known before a call is performed. Also, after the end of the call y is obviously known. Thus, this input should only be included for benchmark purposes and should be discarded if the intention is to have a realistic predictive model.<br>\n",
    "### other attributes:\n",
    "12 - **campaign**: number of contacts performed during this campaign and for this client (**numeric**, includes last contact)<br>\n",
    "13 - **pdays**: number of days that passed by after the client was last contacted from a previous campaign (**numeric**; 999 means client was not previously contacted)<br>\n",
    "14 - **previous**: number of contacts performed before this campaign and for this client (**numeric**)<br>\n",
    "15 - **poutcome**: outcome of the previous marketing campaign (**categorical**: 'failure','nonexistent','success')<br>\n",
    "### social and economic context attributes\n",
    "16 - **emp.var.rate**: employment variation rate - quarterly indicator (**numeric**)<br>\n",
    "17 - **cons.price.idx**: consumer price index - monthly indicator (**numeric**)<br>\n",
    "18 - **cons.conf.idx**: consumer confidence index - monthly indicator (**numeric**)<br>\n",
    "19 - **euribor3m**: euribor 3 month rate - daily indicator (**numeric**)<br>\n",
    "20 - **nr.employed**: number of employees - quarterly indicator (**numeric**)<br>\n",
    "\n",
    "# Target variable:\n",
    "21 - **y** - has the client subscribed a term deposit? (binary: 'yes','no')"
   ]
  },
  {
   "cell_type": "code",
   "execution_count": null,
   "metadata": {},
   "outputs": [],
   "source": [
    "train = pd.read_csv('train.csv')\n",
    "\n",
    "# drop 'duration' column due to data leakage and its 'unrealistic' effect on the target variable\n",
    "train = train.drop(columns='duration')\n",
    "train.head()"
   ]
  },
  {
   "cell_type": "code",
   "execution_count": null,
   "metadata": {},
   "outputs": [],
   "source": [
    "f, ax = plt.subplots(figsize=(14,4))\n",
    "ed_order = [\n",
    "    'unknown', 'illiterate',\n",
    "    'basic.4y', 'basic.6y',\n",
    "    'basic.9y', 'high.school',\n",
    "    'university.degree', 'professional.course'\n",
    "]\n",
    "sns.boxenplot(x='education', y='age', hue='y', data=train, order=ed_order, ax=ax)\n",
    "ax.set_title('With basic.4y education levels older individuals said yes more than younger individuals.');"
   ]
  },
  {
   "cell_type": "code",
   "execution_count": null,
   "metadata": {},
   "outputs": [],
   "source": [
    "f, ax = plt.subplots(figsize=(15,4))\n",
    "\n",
    "sns.boxenplot(x='job', y='age', hue='y', data=train, ax=ax);\n",
    "ax.set_title('Older retired individuals, younger students and older housemaids said yes more often.');"
   ]
  },
  {
   "cell_type": "code",
   "execution_count": null,
   "metadata": {},
   "outputs": [],
   "source": [
    "x = train.groupby(['job', 'marital', 'education', 'housing', 'loan', 'poutcome', 'y']).count().loc[:, ['age']]\n",
    "x = x.sort_index()\n",
    "x"
   ]
  },
  {
   "cell_type": "code",
   "execution_count": null,
   "metadata": {},
   "outputs": [],
   "source": [
    "x.age.max()"
   ]
  },
  {
   "cell_type": "code",
   "execution_count": null,
   "metadata": {},
   "outputs": [],
   "source": [
    "x.loc[x.age==x.age.max(),:]"
   ]
  },
  {
   "cell_type": "code",
   "execution_count": null,
   "metadata": {},
   "outputs": [],
   "source": [
    "x.loc[('admin.', 'married', 'university.degree', 'yes', 'no', 'nonexistent',),:]"
   ]
  },
  {
   "cell_type": "code",
   "execution_count": null,
   "metadata": {},
   "outputs": [],
   "source": [
    "x.loc[('admin.', 'married', 'university.degree', 'yes', 'no'),:]"
   ]
  },
  {
   "cell_type": "code",
   "execution_count": null,
   "metadata": {},
   "outputs": [],
   "source": [
    "train.query(\"job=='admin.' and marital=='married' and education=='university.degree' and housing=='yes' and loan=='no'\")"
   ]
  },
  {
   "cell_type": "code",
   "execution_count": null,
   "metadata": {},
   "outputs": [],
   "source": [
    "import plotly.express as px"
   ]
  },
  {
   "cell_type": "code",
   "execution_count": null,
   "metadata": {},
   "outputs": [],
   "source": [
    "train.head()"
   ]
  },
  {
   "cell_type": "code",
   "execution_count": null,
   "metadata": {},
   "outputs": [],
   "source": [
    "# # PARALLEL CATEGORIES - THREE CATEGORIES AND WIN %\n",
    "# box_df = box_df.assign(win_num=box_df.win.astype(int))\n",
    "# travel_cats = ['home', 'travelled']\n",
    "# fig = px.parallel_categories(box_df, dimensions=travel_cats, color='win_num')"
   ]
  },
  {
   "cell_type": "code",
   "execution_count": null,
   "metadata": {},
   "outputs": [],
   "source": [
    "g = train.copy()\n",
    "g.y = g.y.apply(lambda x: 1 if x == 'yes' else 0)\n",
    "f = px.parallel_categories(g, dimensions=['y', 'job', 'marital', 'education', 'default', 'housing', 'loan', 'poutcome'], color='y')\n",
    "f.show()"
   ]
  },
  {
   "cell_type": "code",
   "execution_count": null,
   "metadata": {},
   "outputs": [],
   "source": [
    "train.loc[:, ['poutcome', 'previous', 'campaign']]"
   ]
  },
  {
   "cell_type": "code",
   "execution_count": null,
   "metadata": {},
   "outputs": [],
   "source": [
    "train['cur_prev_ratio'] = (train.campaign/train.previous).replace([np.inf], 0)"
   ]
  },
  {
   "cell_type": "code",
   "execution_count": null,
   "metadata": {},
   "outputs": [],
   "source": [
    "train.cur_prev_ratio = train.cur_prev_ratio.replace(to_replace=0, train.cur_prev_ratio.max())"
   ]
  },
  {
   "cell_type": "code",
   "execution_count": null,
   "metadata": {},
   "outputs": [],
   "source": [
    "# f = px.treemap(train.loc[train.poutcome!='nonexistent',:],\n",
    "#                path=['y', 'poutcome', 'job'],\n",
    "#                width=1600, height=750,\n",
    "#                color_continuous_scale='RdBu',\n",
    "#                color='previous'\n",
    "#               )\n",
    "# f.show()"
   ]
  },
  {
   "cell_type": "code",
   "execution_count": null,
   "metadata": {},
   "outputs": [],
   "source": [
    "f = px.treemap(train,\n",
    "               path=['poutcome', 'job', 'y'],\n",
    "               width=1600, height=750,\n",
    "               color_continuous_scale='RdBu',\n",
    "               color='cur_prev_ratio'\n",
    "              )\n",
    "f.show()"
   ]
  },
  {
   "cell_type": "code",
   "execution_count": null,
   "metadata": {},
   "outputs": [],
   "source": [
    "f = px.treemap(train.loc[train.poutcome!='nonexistent',:],\n",
    "               path=['poutcome', 'job', 'y'],\n",
    "               width=1600, height=750,\n",
    "               color_continuous_scale='RdBu',\n",
    "               color='previous'\n",
    "              )\n",
    "f.show()"
   ]
  },
  {
   "cell_type": "code",
   "execution_count": null,
   "metadata": {},
   "outputs": [],
   "source": [
    "# f = px.treemap(train.loc[train.poutcome=='nonexistent',:],\n",
    "#                path=['y', 'job'],\n",
    "#                width=1200, height=750\n",
    "#               )\n",
    "# f.show()"
   ]
  },
  {
   "cell_type": "code",
   "execution_count": null,
   "metadata": {},
   "outputs": [],
   "source": []
  },
  {
   "cell_type": "code",
   "execution_count": null,
   "metadata": {},
   "outputs": [],
   "source": []
  },
  {
   "cell_type": "code",
   "execution_count": null,
   "metadata": {},
   "outputs": [],
   "source": []
  },
  {
   "cell_type": "code",
   "execution_count": null,
   "metadata": {},
   "outputs": [],
   "source": [
    "jobs = train.groupby(['job', 'y'])"
   ]
  },
  {
   "cell_type": "code",
   "execution_count": null,
   "metadata": {},
   "outputs": [],
   "source": [
    "jobs[['marital', 'education', 'default', 'housing', 'loan', 'contact', 'month', 'day_of_week', 'poutcome']].agg(lambda x:x.value_counts().index[0])"
   ]
  },
  {
   "cell_type": "code",
   "execution_count": null,
   "metadata": {},
   "outputs": [],
   "source": [
    "jobs.describe().loc[:, 'age']"
   ]
  },
  {
   "cell_type": "code",
   "execution_count": null,
   "metadata": {},
   "outputs": [],
   "source": [
    "jobs.agg(['mean', 'median', 'std'])"
   ]
  },
  {
   "cell_type": "code",
   "execution_count": null,
   "metadata": {},
   "outputs": [],
   "source": []
  },
  {
   "cell_type": "code",
   "execution_count": null,
   "metadata": {},
   "outputs": [],
   "source": []
  },
  {
   "cell_type": "code",
   "execution_count": null,
   "metadata": {},
   "outputs": [],
   "source": []
  },
  {
   "cell_type": "code",
   "execution_count": null,
   "metadata": {},
   "outputs": [],
   "source": []
  },
  {
   "cell_type": "code",
   "execution_count": null,
   "metadata": {},
   "outputs": [],
   "source": []
  },
  {
   "cell_type": "code",
   "execution_count": null,
   "metadata": {},
   "outputs": [],
   "source": []
  },
  {
   "cell_type": "code",
   "execution_count": null,
   "metadata": {},
   "outputs": [],
   "source": []
  },
  {
   "cell_type": "code",
   "execution_count": null,
   "metadata": {},
   "outputs": [],
   "source": []
  },
  {
   "cell_type": "code",
   "execution_count": null,
   "metadata": {},
   "outputs": [],
   "source": []
  }
 ],
 "metadata": {
  "kernelspec": {
   "display_name": "Python 3",
   "language": "python",
   "name": "python3"
  },
  "language_info": {
   "codemirror_mode": {
    "name": "ipython",
    "version": 3
   },
   "file_extension": ".py",
   "mimetype": "text/x-python",
   "name": "python",
   "nbconvert_exporter": "python",
   "pygments_lexer": "ipython3",
   "version": "3.7.3"
  }
 },
 "nbformat": 4,
 "nbformat_minor": 4
}
